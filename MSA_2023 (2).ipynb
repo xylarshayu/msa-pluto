{
 "cells": [
  {
   "cell_type": "markdown",
   "metadata": {
    "id": "Ac3frxZMDnBf"
   },
   "source": [
    "# MSA 2023\n",
    "https://github.com/xylarshayu\n",
    "\n",
    "---\n",
    "\n",
    "1. MELD - Dataset that's been used. https://github.com/declare-lab/MELD\n",
    "2. Previous attempt (along with data analysis on dataset): https://colab.research.google.com/drive/1MYaJZZshcTsmVipJCqeHbdDpmX59QfmG?usp=sharing\n",
    "3. \n"
   ]
  },
  {
   "cell_type": "markdown",
   "metadata": {
    "id": "COvAEn0r3MBc"
   },
   "source": [
    "## Some knobs and dials for the notebook"
   ]
  },
  {
   "cell_type": "code",
   "execution_count": 1,
   "metadata": {
    "id": "xS-on37p3Tds"
   },
   "outputs": [],
   "source": [
    "DOWNLOAD_DATASET_FROM_SOURCE = False # Downloading the entire dataset from original source instead of just zip file from my drive\n"
   ]
  },
  {
   "cell_type": "markdown",
   "metadata": {
    "id": "SFDEo4yr3HnA"
   },
   "source": [
    "## Getting the Dataset"
   ]
  },
  {
   "cell_type": "code",
   "execution_count": 2,
   "metadata": {
    "id": "yUsprFrVQu16"
   },
   "outputs": [
    {
     "name": "stdout",
     "output_type": "stream",
     "text": [
      "Collecting gdown\n",
      "  Downloading gdown-4.7.1-py3-none-any.whl (15 kB)\n",
      "Collecting transformers\n",
      "  Downloading transformers-4.28.1-py3-none-any.whl (7.0 MB)\n",
      "\u001b[2K     \u001b[90m━━━━━━━━━━━━━━━━━━━━━━━━━━━━━━━━━━━━━━━━\u001b[0m \u001b[32m7.0/7.0 MB\u001b[0m \u001b[31m71.6 MB/s\u001b[0m eta \u001b[36m0:00:00\u001b[0m:00:01\u001b[0m0:01\u001b[0m\n",
      "\u001b[?25hRequirement already satisfied: tqdm in /opt/conda/lib/python3.7/site-packages (4.64.1)\n",
      "Collecting speechbrain\n",
      "  Downloading speechbrain-0.5.14-py3-none-any.whl (519 kB)\n",
      "\u001b[2K     \u001b[90m━━━━━━━━━━━━━━━━━━━━━━━━━━━━━━━━━━━━━━\u001b[0m \u001b[32m519.0/519.0 kB\u001b[0m \u001b[31m47.6 MB/s\u001b[0m eta \u001b[36m0:00:00\u001b[0m\n",
      "\u001b[?25hCollecting optuna\n",
      "  Downloading optuna-3.1.1-py3-none-any.whl (365 kB)\n",
      "\u001b[2K     \u001b[90m━━━━━━━━━━━━━━━━━━━━━━━━━━━━━━━━━━━━━━\u001b[0m \u001b[32m365.7/365.7 kB\u001b[0m \u001b[31m40.3 MB/s\u001b[0m eta \u001b[36m0:00:00\u001b[0m\n",
      "\u001b[?25hRequirement already satisfied: filelock in /opt/conda/lib/python3.7/site-packages (from gdown) (3.12.0)\n",
      "Requirement already satisfied: requests[socks] in /opt/conda/lib/python3.7/site-packages (from gdown) (2.28.2)\n",
      "Requirement already satisfied: six in /opt/conda/lib/python3.7/site-packages (from gdown) (1.16.0)\n",
      "Requirement already satisfied: beautifulsoup4 in /opt/conda/lib/python3.7/site-packages (from gdown) (4.12.2)\n",
      "Collecting huggingface-hub<1.0,>=0.11.0 (from transformers)\n",
      "  Downloading huggingface_hub-0.14.1-py3-none-any.whl (224 kB)\n",
      "\u001b[2K     \u001b[90m━━━━━━━━━━━━━━━━━━━━━━━━━━━━━━━━━━━━━━\u001b[0m \u001b[32m224.5/224.5 kB\u001b[0m \u001b[31m26.7 MB/s\u001b[0m eta \u001b[36m0:00:00\u001b[0m\n",
      "\u001b[?25hRequirement already satisfied: numpy>=1.17 in /opt/conda/lib/python3.7/site-packages (from transformers) (1.21.6)\n",
      "Requirement already satisfied: packaging>=20.0 in /opt/conda/lib/python3.7/site-packages (from transformers) (23.1)\n",
      "Requirement already satisfied: pyyaml>=5.1 in /opt/conda/lib/python3.7/site-packages (from transformers) (6.0)\n",
      "Collecting regex!=2019.12.17 (from transformers)\n",
      "  Downloading regex-2022.10.31-cp37-cp37m-manylinux_2_17_x86_64.manylinux2014_x86_64.whl (757 kB)\n",
      "\u001b[2K     \u001b[90m━━━━━━━━━━━━━━━━━━━━━━━━━━━━━━━━━━━━━━\u001b[0m \u001b[32m757.1/757.1 kB\u001b[0m \u001b[31m57.6 MB/s\u001b[0m eta \u001b[36m0:00:00\u001b[0m\n",
      "\u001b[?25hCollecting tokenizers!=0.11.3,<0.14,>=0.11.1 (from transformers)\n",
      "  Downloading tokenizers-0.13.3-cp37-cp37m-manylinux_2_17_x86_64.manylinux2014_x86_64.whl (7.8 MB)\n",
      "\u001b[2K     \u001b[90m━━━━━━━━━━━━━━━━━━━━━━━━━━━━━━━━━━━━━━━━\u001b[0m \u001b[32m7.8/7.8 MB\u001b[0m \u001b[31m99.3 MB/s\u001b[0m eta \u001b[36m0:00:00\u001b[0m:00:01\u001b[0m00:01\u001b[0m\n",
      "\u001b[?25hRequirement already satisfied: importlib-metadata in /opt/conda/lib/python3.7/site-packages (from transformers) (4.11.4)\n",
      "Collecting hyperpyyaml (from speechbrain)\n",
      "  Downloading HyperPyYAML-1.2.0-py3-none-any.whl (16 kB)\n",
      "Requirement already satisfied: joblib in /opt/conda/lib/python3.7/site-packages (from speechbrain) (1.2.0)\n",
      "Requirement already satisfied: scipy in /opt/conda/lib/python3.7/site-packages (from speechbrain) (1.7.3)\n",
      "Collecting sentencepiece (from speechbrain)\n",
      "  Downloading sentencepiece-0.1.98-cp37-cp37m-manylinux_2_17_x86_64.manylinux2014_x86_64.whl (1.3 MB)\n",
      "\u001b[2K     \u001b[90m━━━━━━━━━━━━━━━━━━━━━━━━━━━━━━━━━━━━━━━━\u001b[0m \u001b[32m1.3/1.3 MB\u001b[0m \u001b[31m69.5 MB/s\u001b[0m eta \u001b[36m0:00:00\u001b[0m\n",
      "\u001b[?25hCollecting torch>=1.9 (from speechbrain)\n",
      "  Downloading torch-1.13.1-cp37-cp37m-manylinux1_x86_64.whl (887.5 MB)\n",
      "\u001b[2K     \u001b[90m━━━━━━━━━━━━━━━━━━━━━━━━━━━━━━━━━━━━━━━\u001b[0m \u001b[32m887.5/887.5 MB\u001b[0m \u001b[31m1.0 MB/s\u001b[0m eta \u001b[36m0:00:00\u001b[0m00:01\u001b[0m00:01\u001b[0m\n",
      "\u001b[?25hCollecting torchaudio (from speechbrain)\n",
      "  Downloading torchaudio-0.13.1-cp37-cp37m-manylinux1_x86_64.whl (4.2 MB)\n",
      "\u001b[2K     \u001b[90m━━━━━━━━━━━━━━━━━━━━━━━━━━━━━━━━━━━━━━━━\u001b[0m \u001b[32m4.2/4.2 MB\u001b[0m \u001b[31m102.0 MB/s\u001b[0m eta \u001b[36m0:00:00\u001b[0m00:01\u001b[0m\n",
      "\u001b[?25hCollecting alembic>=1.5.0 (from optuna)\n",
      "  Downloading alembic-1.10.4-py3-none-any.whl (212 kB)\n",
      "\u001b[2K     \u001b[90m━━━━━━━━━━━━━━━━━━━━━━━━━━━━━━━━━━━━━━\u001b[0m \u001b[32m212.9/212.9 kB\u001b[0m \u001b[31m29.5 MB/s\u001b[0m eta \u001b[36m0:00:00\u001b[0m\n",
      "\u001b[?25hCollecting cmaes>=0.9.1 (from optuna)\n",
      "  Downloading cmaes-0.9.1-py3-none-any.whl (21 kB)\n",
      "Collecting colorlog (from optuna)\n",
      "  Downloading colorlog-6.7.0-py2.py3-none-any.whl (11 kB)\n",
      "Requirement already satisfied: sqlalchemy>=1.3.0 in /opt/conda/lib/python3.7/site-packages (from optuna) (2.0.11)\n",
      "Collecting Mako (from alembic>=1.5.0->optuna)\n",
      "  Downloading Mako-1.2.4-py3-none-any.whl (78 kB)\n",
      "\u001b[2K     \u001b[90m━━━━━━━━━━━━━━━━━━━━━━━━━━━━━━━━━━━━━━━━\u001b[0m \u001b[32m78.7/78.7 kB\u001b[0m \u001b[31m13.6 MB/s\u001b[0m eta \u001b[36m0:00:00\u001b[0m\n",
      "\u001b[?25hRequirement already satisfied: typing-extensions>=4 in /opt/conda/lib/python3.7/site-packages (from alembic>=1.5.0->optuna) (4.5.0)\n",
      "Requirement already satisfied: importlib-resources in /opt/conda/lib/python3.7/site-packages (from alembic>=1.5.0->optuna) (5.12.0)\n",
      "Requirement already satisfied: fsspec in /opt/conda/lib/python3.7/site-packages (from huggingface-hub<1.0,>=0.11.0->transformers) (2023.1.0)\n",
      "Requirement already satisfied: greenlet!=0.4.17 in /opt/conda/lib/python3.7/site-packages (from sqlalchemy>=1.3.0->optuna) (2.0.2)\n",
      "Collecting nvidia-cuda-runtime-cu11==11.7.99 (from torch>=1.9->speechbrain)\n",
      "  Downloading nvidia_cuda_runtime_cu11-11.7.99-py3-none-manylinux1_x86_64.whl (849 kB)\n",
      "\u001b[2K     \u001b[90m━━━━━━━━━━━━━━━━━━━━━━━━━━━━━━━━━━━━━━\u001b[0m \u001b[32m849.3/849.3 kB\u001b[0m \u001b[31m65.8 MB/s\u001b[0m eta \u001b[36m0:00:00\u001b[0m\n",
      "\u001b[?25hCollecting nvidia-cudnn-cu11==8.5.0.96 (from torch>=1.9->speechbrain)\n",
      "  Downloading nvidia_cudnn_cu11-8.5.0.96-2-py3-none-manylinux1_x86_64.whl (557.1 MB)\n",
      "\u001b[2K     \u001b[90m━━━━━━━━━━━━━━━━━━━━━━━━━━━━━━━━━━━━━━━\u001b[0m \u001b[32m557.1/557.1 MB\u001b[0m \u001b[31m1.4 MB/s\u001b[0m eta \u001b[36m0:00:00\u001b[0m00:01\u001b[0m00:01\u001b[0m\n",
      "\u001b[?25hCollecting nvidia-cublas-cu11==11.10.3.66 (from torch>=1.9->speechbrain)\n",
      "  Downloading nvidia_cublas_cu11-11.10.3.66-py3-none-manylinux1_x86_64.whl (317.1 MB)\n",
      "\u001b[2K     \u001b[90m━━━━━━━━━━━━━━━━━━━━━━━━━━━━━━━━━━━━━━━\u001b[0m \u001b[32m317.1/317.1 MB\u001b[0m \u001b[31m3.4 MB/s\u001b[0m eta \u001b[36m0:00:00\u001b[0m00:01\u001b[0m00:01\u001b[0m\n",
      "\u001b[?25hCollecting nvidia-cuda-nvrtc-cu11==11.7.99 (from torch>=1.9->speechbrain)\n",
      "  Downloading nvidia_cuda_nvrtc_cu11-11.7.99-2-py3-none-manylinux1_x86_64.whl (21.0 MB)\n",
      "\u001b[2K     \u001b[90m━━━━━━━━━━━━━━━━━━━━━━━━━━━━━━━━━━━━━━━━\u001b[0m \u001b[32m21.0/21.0 MB\u001b[0m \u001b[31m84.0 MB/s\u001b[0m eta \u001b[36m0:00:00\u001b[0m00:01\u001b[0m00:01\u001b[0m\n",
      "\u001b[?25hRequirement already satisfied: setuptools in /opt/conda/lib/python3.7/site-packages (from nvidia-cublas-cu11==11.10.3.66->torch>=1.9->speechbrain) (67.7.2)\n",
      "Requirement already satisfied: wheel in /opt/conda/lib/python3.7/site-packages (from nvidia-cublas-cu11==11.10.3.66->torch>=1.9->speechbrain) (0.40.0)\n",
      "Requirement already satisfied: soupsieve>1.2 in /opt/conda/lib/python3.7/site-packages (from beautifulsoup4->gdown) (2.3.2.post1)\n",
      "Collecting ruamel.yaml>=0.17.8 (from hyperpyyaml->speechbrain)\n",
      "  Downloading ruamel.yaml-0.17.21-py3-none-any.whl (109 kB)\n",
      "\u001b[2K     \u001b[90m━━━━━━━━━━━━━━━━━━━━━━━━━━━━━━━━━━━━━━\u001b[0m \u001b[32m109.5/109.5 kB\u001b[0m \u001b[31m18.6 MB/s\u001b[0m eta \u001b[36m0:00:00\u001b[0m\n",
      "\u001b[?25hRequirement already satisfied: zipp>=0.5 in /opt/conda/lib/python3.7/site-packages (from importlib-metadata->transformers) (3.15.0)\n",
      "Requirement already satisfied: charset-normalizer<4,>=2 in /opt/conda/lib/python3.7/site-packages (from requests[socks]->gdown) (3.1.0)\n",
      "Requirement already satisfied: idna<4,>=2.5 in /opt/conda/lib/python3.7/site-packages (from requests[socks]->gdown) (3.4)\n",
      "Requirement already satisfied: urllib3<1.27,>=1.21.1 in /opt/conda/lib/python3.7/site-packages (from requests[socks]->gdown) (1.26.15)\n",
      "Requirement already satisfied: certifi>=2017.4.17 in /opt/conda/lib/python3.7/site-packages (from requests[socks]->gdown) (2022.12.7)\n",
      "Requirement already satisfied: PySocks!=1.5.7,>=1.5.6 in /opt/conda/lib/python3.7/site-packages (from requests[socks]->gdown) (1.7.1)\n",
      "Collecting ruamel.yaml.clib>=0.2.6 (from ruamel.yaml>=0.17.8->hyperpyyaml->speechbrain)\n",
      "  Downloading ruamel.yaml.clib-0.2.7-cp37-cp37m-manylinux_2_17_x86_64.manylinux2014_x86_64.manylinux_2_24_x86_64.whl (500 kB)\n",
      "\u001b[2K     \u001b[90m━━━━━━━━━━━━━━━━━━━━━━━━━━━━━━━━━━━━━━\u001b[0m \u001b[32m500.1/500.1 kB\u001b[0m \u001b[31m50.4 MB/s\u001b[0m eta \u001b[36m0:00:00\u001b[0m\n",
      "\u001b[?25hRequirement already satisfied: MarkupSafe>=0.9.2 in /opt/conda/lib/python3.7/site-packages (from Mako->alembic>=1.5.0->optuna) (2.1.1)\n",
      "Installing collected packages: tokenizers, sentencepiece, ruamel.yaml.clib, regex, nvidia-cuda-runtime-cu11, nvidia-cuda-nvrtc-cu11, nvidia-cublas-cu11, colorlog, cmaes, ruamel.yaml, nvidia-cudnn-cu11, Mako, huggingface-hub, transformers, torch, hyperpyyaml, gdown, alembic, torchaudio, optuna, speechbrain\n",
      "Successfully installed Mako-1.2.4 alembic-1.10.4 cmaes-0.9.1 colorlog-6.7.0 gdown-4.7.1 huggingface-hub-0.14.1 hyperpyyaml-1.2.0 nvidia-cublas-cu11-11.10.3.66 nvidia-cuda-nvrtc-cu11-11.7.99 nvidia-cuda-runtime-cu11-11.7.99 nvidia-cudnn-cu11-8.5.0.96 optuna-3.1.1 regex-2022.10.31 ruamel.yaml-0.17.21 ruamel.yaml.clib-0.2.7 sentencepiece-0.1.98 speechbrain-0.5.14 tokenizers-0.13.3 torch-1.13.1 torchaudio-0.13.1 transformers-4.28.1\n"
     ]
    }
   ],
   "source": [
    "!pip install gdown transformers tqdm speechbrain optuna"
   ]
  },
  {
   "cell_type": "code",
   "execution_count": 2,
   "metadata": {},
   "outputs": [],
   "source": [
    "import os\n",
    "import requests\n",
    "import tarfile\n",
    "import shutil\n",
    "import zipfile\n",
    "import gdown\n",
    "import subprocess"
   ]
  },
  {
   "cell_type": "code",
   "execution_count": 4,
   "metadata": {
    "id": "MFy2MYu9DlHB"
   },
   "outputs": [
    {
     "name": "stderr",
     "output_type": "stream",
     "text": [
      "Downloading...\n",
      "From (uriginal): https://drive.google.com/uc?id=11vTa_5JYNQmwM9F4dPXHMFBFoFXsRYfC\n",
      "From (redirected): https://drive.google.com/uc?id=11vTa_5JYNQmwM9F4dPXHMFBFoFXsRYfC&confirm=t&uuid=349836c4-0cfe-4a2f-a07b-c09cbb24c36b\n",
      "To: /home/jupyter/MELD.Raw.zip\n",
      "100%|██████████| 10.9G/10.9G [00:43<00:00, 251MB/s]\n"
     ]
    }
   ],
   "source": [
    "def download_and_extract_meld_dataset():\n",
    "  subprocess.run([\"wget\", \"https://web.eecs.umich.edu/~mihalcea/downloads/MELD.Raw.tar.gz\"])\n",
    "\n",
    "  subprocess.run([\"tar\", \"-xzvpf\", \"MELD.Raw.tar.gz\", \"-C\", \".\"])\n",
    "  subprocess.run([\"tar\", \"-xzvf\", \"MELD.Raw/dev.tar.gz\", \"-C\", \"MELD.Raw/\"])\n",
    "  subprocess.run([\"tar\", \"-xzvf\", \"MELD.Raw/test.tar.gz\", \"-C\", \"MELD.Raw/\"])\n",
    "  subprocess.run([\"tar\", \"-xzvf\", \"MELD.Raw/train.tar.gz\", \"-C\", \"MELD.Raw/\"])\n",
    "\n",
    "  subprocess.run([\"rm\", \"MELD.Raw.tar.gz\"])\n",
    "  subprocess.run([\"rm\", \"MELD.Raw/dev.tar.gz\"])\n",
    "  subprocess.run([\"rm\", \"MELD.Raw/test.tar.gz\"])\n",
    "  subprocess.run([\"rm\", \"MELD.Raw/train.tar.gz\"])\n",
    "\n",
    "def download_meld_zip():\n",
    "  url = \"https://drive.google.com/uc?id=11vTa_5JYNQmwM9F4dPXHMFBFoFXsRYfC\"\n",
    "  gdown.download(url, output=\"MELD.Raw.zip\", quiet=False)\n",
    "  meld_zip_file = \"MELD.Raw.zip\"\n",
    "  with zipfile.ZipFile(meld_zip_file, 'r') as zip_ref:\n",
    "      zip_ref.extractall()\n",
    "  shutil.move(\"content/MELD.Raw\", \".\")\n",
    "  os.remove(meld_zip_file)\n",
    "  shutil.rmtree(\"content\")\n",
    "\n",
    "# Check if the MELD dataset already exists in the current directory\n",
    "if not os.path.isdir(\"MELD.Raw\"):\n",
    "    download_and_extract_meld_dataset() if DOWNLOAD_DATASET_FROM_SOURCE else download_meld_zip()\n"
   ]
  },
  {
   "cell_type": "markdown",
   "metadata": {
    "id": "ki0KiA0FhSi1"
   },
   "source": [
    "## Data Preperation\n",
    "\n",
    "1. Importing CSV files\n",
    "2. Converting audio to embeddings using SpeechBrain\n",
    "3. Converting Text to embeddings using BERT\n",
    "4. Saving these neatly to drive as checkpoints"
   ]
  },
  {
   "cell_type": "code",
   "execution_count": 19,
   "metadata": {},
   "outputs": [
    {
     "name": "stdout",
     "output_type": "stream",
     "text": [
      "Found existing installation: torch 1.10.0+cu113\n",
      "Uninstalling torch-1.10.0+cu113:\n",
      "  Successfully uninstalled torch-1.10.0+cu113\n",
      "Found existing installation: torchvision 0.11.1+cu113\n",
      "Uninstalling torchvision-0.11.1+cu113:\n",
      "  Successfully uninstalled torchvision-0.11.1+cu113\n",
      "Found existing installation: torchaudio 0.10.0+cu113\n",
      "Uninstalling torchaudio-0.10.0+cu113:\n",
      "  Successfully uninstalled torchaudio-0.10.0+cu113\n",
      "Looking in links: https://download.pytorch.org/whl/cu113/torch_stable.html\n",
      "Collecting torch==1.10.0+cu113\n",
      "  Downloading https://download.pytorch.org/whl/cu113/torch-1.10.0%2Bcu113-cp37-cp37m-linux_x86_64.whl (1821.5 MB)\n",
      "\u001b[2K     \u001b[90m━━━━━━━━━━━━━━━━━━━━━━━━━━━━━━━━━━━━━━━━\u001b[0m \u001b[32m1.8/1.8 GB\u001b[0m \u001b[31m34.1 MB/s\u001b[0m eta \u001b[36m0:00:00\u001b[0m00:01\u001b[0m00:02\u001b[0m\n",
      "\u001b[?25h\u001b[33mWARNING: Retrying (Retry(total=4, connect=None, read=None, redirect=None, status=None)) after connection broken by 'ProtocolError('Connection aborted.', ConnectionResetError(104, 'Connection reset by peer'))': /simple/torchvision/\u001b[0m\u001b[33m\n",
      "\u001b[0mCollecting torchvision==0.11.1+cu113\n",
      "  Downloading https://download.pytorch.org/whl/cu113/torchvision-0.11.1%2Bcu113-cp37-cp37m-linux_x86_64.whl (24.6 MB)\n",
      "\u001b[2K     \u001b[90m━━━━━━━━━━━━━━━━━━━━━━━━━━━━━━━━━━━━━━━━\u001b[0m \u001b[32m24.6/24.6 MB\u001b[0m \u001b[31m26.2 MB/s\u001b[0m eta \u001b[36m0:00:00\u001b[0m00:01\u001b[0m00:01\u001b[0m\n",
      "\u001b[?25hCollecting torchaudio==0.10.0+cu113\n",
      "  Downloading https://download.pytorch.org/whl/cu113/torchaudio-0.10.0%2Bcu113-cp37-cp37m-linux_x86_64.whl (2.9 MB)\n",
      "\u001b[2K     \u001b[90m━━━━━━━━━━━━━━━━━━━━━━━━━━━━━━━━━━━━━━━━\u001b[0m \u001b[32m2.9/2.9 MB\u001b[0m \u001b[31m758.6 kB/s\u001b[0m eta \u001b[36m0:00:00\u001b[0ma \u001b[36m0:00:01\u001b[0m\n",
      "\u001b[?25hRequirement already satisfied: typing-extensions in /opt/conda/lib/python3.7/site-packages (from torch==1.10.0+cu113) (4.5.0)\n",
      "Requirement already satisfied: numpy in /opt/conda/lib/python3.7/site-packages (from torchvision==0.11.1+cu113) (1.21.6)\n",
      "Requirement already satisfied: pillow!=8.3.0,>=5.3.0 in /opt/conda/lib/python3.7/site-packages (from torchvision==0.11.1+cu113) (9.5.0)\n",
      "Installing collected packages: torch, torchvision, torchaudio\n",
      "Successfully installed torch-1.10.0+cu113 torchaudio-0.10.0+cu113 torchvision-0.11.1+cu113\n"
     ]
    }
   ],
   "source": [
    "!pip uninstall torch torchvision torchaudio -y\n",
    "!pip install --no-cache-dir torch==1.10.0+cu113 torchvision==0.11.1+cu113 torchaudio==0.10.0+cu113 -f https://download.pytorch.org/whl/cu113/torch_stable.html"
   ]
  },
  {
   "cell_type": "code",
   "execution_count": 3,
   "metadata": {
    "id": "zn3iS8SGWMHF"
   },
   "outputs": [],
   "source": [
    "import pandas as pd\n",
    "import numpy as np\n",
    "import torch\n",
    "import torch.nn as nn\n",
    "import torch.nn.functional as F\n",
    "import torch.optim as optim\n",
    "from torch.utils.data import Dataset, DataLoader\n",
    "from torch.nn.utils.rnn import pad_sequence\n",
    "import pickle\n",
    "import datetime\n",
    "import math\n",
    "from tqdm import tqdm\n",
    "import sys\n",
    "import multiprocessing\n",
    "from transformers import BertTokenizer\n",
    "from speechbrain.pretrained import EncoderClassifier\n",
    "from concurrent.futures import ProcessPoolExecutor\n",
    "from sklearn.preprocessing import LabelEncoder\n",
    "\n",
    "num_cores = multiprocessing.cpu_count()\n",
    "device = torch.device(\"cuda\" if torch.cuda.is_available() else \"cpu\")\n",
    "\n",
    "tokenizer = BertTokenizer.from_pretrained('bert-base-uncased')\n",
    "SB_model = EncoderClassifier.from_hparams(source=\"speechbrain/spkrec-ecapa-voxceleb\", savedir=\"pretrained_models/spkrec-ecapa-voxceleb\")"
   ]
  },
  {
   "cell_type": "markdown",
   "metadata": {
    "id": "CuiTIz5rutRp"
   },
   "source": [
    "### Importing csv files"
   ]
  },
  {
   "cell_type": "code",
   "execution_count": 3,
   "metadata": {
    "id": "xaINeRqDuOCi"
   },
   "outputs": [],
   "source": [
    "train_df = pd.read_csv('MELD.Raw/train_sent_emo.csv')\n",
    "dev_df = pd.read_csv('MELD.Raw/dev_sent_emo.csv')\n",
    "test_df = pd.read_csv('MELD.Raw/test_sent_emo.csv')"
   ]
  },
  {
   "cell_type": "code",
   "execution_count": 4,
   "metadata": {
    "id": "A9Mbf7TbWmOC"
   },
   "outputs": [],
   "source": [
    "#@title Remove all rows where the duration is greater than 5 seconds\n",
    "train_df['StartTime'] = pd.to_datetime(train_df['StartTime'])\n",
    "train_df['EndTime'] = pd.to_datetime(train_df['EndTime'])\n",
    "test_df['StartTime'] = pd.to_datetime(test_df['StartTime'])\n",
    "test_df['EndTime'] = pd.to_datetime(test_df['EndTime'])\n",
    "dev_df['StartTime'] = pd.to_datetime(dev_df['StartTime'])\n",
    "dev_df['EndTime'] = pd.to_datetime(dev_df['EndTime'])\n",
    "\n",
    "# Calculate the duration of each utterance as the difference between the 'EndTime' and 'StartTime' values\n",
    "train_df['Duration'] = train_df['EndTime'] - train_df['StartTime']\n",
    "test_df['Duration'] = test_df['EndTime'] - test_df['StartTime']\n",
    "dev_df['Duration'] = dev_df['EndTime'] - dev_df['StartTime']\n",
    "# Convert the 'Duration' column to seconds\n",
    "train_df['Duration'] = train_df['Duration'].dt.total_seconds()\n",
    "test_df['Duration'] = test_df['Duration'].dt.total_seconds()\n",
    "dev_df['Duration'] = dev_df['Duration'].dt.total_seconds()\n",
    "# Remove all rows where the duration is greater than 5 seconds\n",
    "train_df = train_df.drop(train_df[train_df['Duration'] >= 5].index)\n",
    "test_df = test_df.drop(test_df[test_df['Duration'] >= 5].index)\n",
    "dev_df = dev_df.drop(dev_df[dev_df['Duration'] >= 5].index)\n",
    "\n",
    "dataframes = { 'train': {'df':train_df, 'folder':'train_splits'}, 'dev': {'df':dev_df, 'folder':'dev_splits_complete'}, 'test': {'df': test_df, 'folder': 'output_repeated_splits_test'}}"
   ]
  },
  {
   "cell_type": "code",
   "execution_count": 4,
   "metadata": {
    "id": "RwNgUqakW9Rq"
   },
   "outputs": [
    {
     "name": "stdout",
     "output_type": "stream",
     "text": [
      "\u001b[96m testing how to print colored text\n"
     ]
    }
   ],
   "source": [
    "# Adding Colored Printing\n",
    "red = '\\033[91m'\n",
    "green = '\\033[92m'\n",
    "yellow = '\\033[93m'\n",
    "blue = '\\033[94m'\n",
    "pink = '\\033[95m'\n",
    "teal = '\\033[96m'\n",
    "grey = '\\033[97m'\n",
    "print(teal, \"testing how to print colored text\")"
   ]
  },
  {
   "cell_type": "markdown",
   "metadata": {
    "id": "0xZPkHSBurOX"
   },
   "source": [
    "### Extracting features from data"
   ]
  },
  {
   "cell_type": "code",
   "execution_count": 7,
   "metadata": {},
   "outputs": [
    {
     "name": "stdout",
     "output_type": "stream",
     "text": [
      "Collecting moviepy\n",
      "  Downloading moviepy-1.0.3.tar.gz (388 kB)\n",
      "\u001b[2K     \u001b[90m━━━━━━━━━━━━━━━━━━━━━━━━━━━━━━━━━━━━━━\u001b[0m \u001b[32m388.3/388.3 kB\u001b[0m \u001b[31m14.5 MB/s\u001b[0m eta \u001b[36m0:00:00\u001b[0m\n",
      "\u001b[?25h  Preparing metadata (setup.py) ... \u001b[?25ldone\n",
      "\u001b[?25hCollecting decorator<5.0,>=4.0.2 (from moviepy)\n",
      "  Downloading decorator-4.4.2-py2.py3-none-any.whl (9.2 kB)\n",
      "Requirement already satisfied: tqdm<5.0,>=4.11.2 in /opt/conda/lib/python3.7/site-packages (from moviepy) (4.64.1)\n",
      "Requirement already satisfied: requests<3.0,>=2.8.1 in /opt/conda/lib/python3.7/site-packages (from moviepy) (2.28.2)\n",
      "Collecting proglog<=1.0.0 (from moviepy)\n",
      "  Downloading proglog-0.1.10-py3-none-any.whl (6.1 kB)\n",
      "Requirement already satisfied: numpy>=1.17.3 in /opt/conda/lib/python3.7/site-packages (from moviepy) (1.21.6)\n",
      "Requirement already satisfied: imageio<3.0,>=2.5 in /opt/conda/lib/python3.7/site-packages (from moviepy) (2.28.0)\n",
      "Collecting imageio_ffmpeg>=0.2.0 (from moviepy)\n",
      "  Downloading imageio_ffmpeg-0.4.8-py3-none-manylinux2010_x86_64.whl (26.9 MB)\n",
      "\u001b[2K     \u001b[90m━━━━━━━━━━━━━━━━━━━━━━━━━━━━━━━━━━━━━━━━\u001b[0m \u001b[32m26.9/26.9 MB\u001b[0m \u001b[31m62.0 MB/s\u001b[0m eta \u001b[36m0:00:00\u001b[0m00:01\u001b[0m00:01\u001b[0m\n",
      "\u001b[?25hRequirement already satisfied: pillow>=8.3.2 in /opt/conda/lib/python3.7/site-packages (from imageio<3.0,>=2.5->moviepy) (9.5.0)\n",
      "Requirement already satisfied: charset-normalizer<4,>=2 in /opt/conda/lib/python3.7/site-packages (from requests<3.0,>=2.8.1->moviepy) (3.1.0)\n",
      "Requirement already satisfied: idna<4,>=2.5 in /opt/conda/lib/python3.7/site-packages (from requests<3.0,>=2.8.1->moviepy) (3.4)\n",
      "Requirement already satisfied: urllib3<1.27,>=1.21.1 in /opt/conda/lib/python3.7/site-packages (from requests<3.0,>=2.8.1->moviepy) (1.26.15)\n",
      "Requirement already satisfied: certifi>=2017.4.17 in /opt/conda/lib/python3.7/site-packages (from requests<3.0,>=2.8.1->moviepy) (2022.12.7)\n",
      "Building wheels for collected packages: moviepy\n",
      "  Building wheel for moviepy (setup.py) ... \u001b[?25ldone\n",
      "\u001b[?25h  Created wheel for moviepy: filename=moviepy-1.0.3-py3-none-any.whl size=110730 sha256=8993e559f5229b55932c12cdaceef47f9a966cdf246712f65a118dca113ce92d\n",
      "  Stored in directory: /home/jupyter/.cache/pip/wheels/56/dc/2b/9cd600d483c04af3353d66623056fc03faed76b7518faae4df\n",
      "Successfully built moviepy\n",
      "Installing collected packages: proglog, imageio_ffmpeg, decorator, moviepy\n",
      "  Attempting uninstall: decorator\n",
      "    Found existing installation: decorator 5.1.1\n",
      "    Uninstalling decorator-5.1.1:\n",
      "      Successfully uninstalled decorator-5.1.1\n",
      "Successfully installed decorator-4.4.2 imageio_ffmpeg-0.4.8 moviepy-1.0.3 proglog-0.1.10\n"
     ]
    }
   ],
   "source": [
    "!pip install moviepy"
   ]
  },
  {
   "cell_type": "code",
   "execution_count": 6,
   "metadata": {
    "id": "wRe5f5qoXOct"
   },
   "outputs": [
    {
     "data": {
      "text/plain": [
       "LabelEncoder()"
      ]
     },
     "execution_count": 6,
     "metadata": {},
     "output_type": "execute_result"
    }
   ],
   "source": [
    "from moviepy.editor import AudioFileClip\n",
    "\n",
    "data_dict_train = {}\n",
    "data_dict_dev = {}\n",
    "data_dict_test = {}\n",
    "data_dicts = {'train': data_dict_train, 'dev': data_dict_dev, 'test': data_dict_test}\n",
    "\n",
    "sentiment_encoder = LabelEncoder()\n",
    "emotion_encoder = LabelEncoder()\n",
    "sentiment_encoder.fit(train_df['Sentiment'])\n",
    "emotion_encoder.fit(train_df['Emotion'])"
   ]
  },
  {
   "cell_type": "code",
   "execution_count": 10,
   "metadata": {
    "id": "336osDUfLiYy"
   },
   "outputs": [],
   "source": [
    "# Processes single data sample\n",
    "def process_file(dataset, sr_no):\n",
    "    success = True\n",
    "    folder_name = dataframes[dataset]['folder']\n",
    "    df = dataframes[dataset]['df']\n",
    "    dialogue_id, utterance_id = df.loc[sr_no, 'Dialogue_ID'], df.loc[sr_no, 'Utterance_ID']\n",
    "    file_path = f\"MELD.Raw/{folder_name}/dia{dialogue_id}_utt{utterance_id}.mp4\"\n",
    "    raw_text = df.loc[sr_no, 'Utterance']\n",
    "\n",
    "    try:\n",
    "      raw_audio = AudioFileClip(file_path).to_soundarray(fps=22000)\n",
    "      if raw_audio.shape[1] > 1:\n",
    "            raw_audio = raw_audio.mean(axis=1)\n",
    "      raw_audio = torch.tensor(raw_audio).unsqueeze(0)\n",
    "    except Exception as e:\n",
    "      print(yellow, \"Error loading file \", file_path)\n",
    "      print(red, type(e), \":\\n\", e)\n",
    "      success = False\n",
    "      return success, None, None, None, None\n",
    "    \n",
    "    audio_features = SB_model.encode_batch(raw_audio).mean(dim=1).squeeze(0)\n",
    "    text_features = tokenizer(raw_text, padding='max_length', truncation=True, max_length=256, return_tensors=\"pt\")\n",
    "    sentiment_label = sentiment_encoder.transform([df.loc[sr_no, 'Sentiment']])[0]\n",
    "    emotion_label = emotion_encoder.transform([df.loc[sr_no, 'Emotion']])[0]\n",
    "    \n",
    "    return success, audio_features, text_features, sentiment_label, emotion_label"
   ]
  },
  {
   "cell_type": "code",
   "execution_count": 7,
   "metadata": {
    "id": "Ymj6M2PTLjVD"
   },
   "outputs": [],
   "source": [
    "# Helper function to run process_file in parallel\n",
    "import funcs\n",
    "\n",
    "def process_files_in_parallel(dataset):\n",
    "    df = dataframes[dataset]['df']\n",
    "    folder_name = dataframes[dataset]['folder']\n",
    "    successful_indices = []\n",
    "    \n",
    "    print(teal, \"Processing files in parallel\")\n",
    "    if __name__ == '__main__':\n",
    "        with ProcessPoolExecutor(max_workers=os.cpu_count()) as executor:\n",
    "            pbar = tqdm(total=df.shape[0])\n",
    "            for sr_no in df.index:\n",
    "                print(yellow, \"Processing file \", sr_no)\n",
    "                \n",
    "                success, raw_audio, text_features, sentiment_label, emotion_label = executor.submit(funcs.process_file, folder_name, df, sr_no, sentiment_encoder, emotion_encoder, tokenizer).result()\n",
    "                if success:\n",
    "                    audio_features = SB_model.encode_batch(raw_audio).mean(dim=1).squeeze(0)\n",
    "                    print(blue, \"Audio features encoded\")\n",
    "                    data_dicts[dataset][sr_no] = {'audio': audio_features, 'text': text_features, 'sentiment': sentiment_label, 'emotion': emotion_label}\n",
    "                    successful_indices.append(sr_no)\n",
    "                pbar.update()\n",
    "    \n",
    "    pbar.close()\n",
    "    dataframes[dataset]['df'] = df.loc[successful_indices]\n",
    "\n",
    "    # Save checkpoints\n",
    "    df.to_csv(f'updated_{dataset}_df.csv', index=False)\n",
    "    with open(f'data_dict_{dataset}.pickle', 'wb') as handle:\n",
    "        pickle.dump(data_dicts[dataset], handle, protocol=pickle.HIGHEST_PROTOCOL)"
   ]
  },
  {
   "cell_type": "code",
   "execution_count": 9,
   "metadata": {},
   "outputs": [],
   "source": [
    "def process_files_sequentially(dataset):\n",
    "    df = dataframes[dataset]['df']\n",
    "    successful_indices = []\n",
    "    print(teal, \"Processing files in parallel\")\n",
    "    for sr_no in tqdm(df.index, desc=f\"Processing {dataset}\"):\n",
    "        success, audio_features, text_features, sentiment_label, emotion_label = process_file(dataset, sr_no)\n",
    "        if success:\n",
    "            data_dicts[dataset][sr_no] = {'audio': audio_features, 'text': text_features, 'sentiment': sentiment_label, 'emotion': emotion_label}\n",
    "            successful_indices.append(sr_no)\n",
    "    \n",
    "    dataframes[dataset]['df'] = df.loc[successful_indices]\n",
    "\n",
    "    # Save checkpoints\n",
    "    df.to_csv(f'updated_{dataset}_df.csv', index=False)\n",
    "    with open(f'data_dict_{dataset}.pickle', 'wb') as handle:\n",
    "        pickle.dump(data_dicts[dataset], handle, protocol=pickle.HIGHEST_PROTOCOL)"
   ]
  },
  {
   "cell_type": "code",
   "execution_count": null,
   "metadata": {
    "id": "5E1UbygXOK07"
   },
   "outputs": [],
   "source": [
    "process_files_sequentially('train')"
   ]
  },
  {
   "cell_type": "code",
   "execution_count": null,
   "metadata": {
    "id": "eH9N_YAbQYjf"
   },
   "outputs": [],
   "source": [
    "process_files_sequentially('dev')"
   ]
  },
  {
   "cell_type": "code",
   "execution_count": null,
   "metadata": {
    "id": "whroz07IQZ2C"
   },
   "outputs": [],
   "source": [
    "process_files_sequentially('test')"
   ]
  },
  {
   "cell_type": "code",
   "execution_count": 5,
   "metadata": {
    "id": "36-sHrF3QbMT"
   },
   "outputs": [],
   "source": [
    "#@title Restore checkpoints after processing\n",
    "def load_data(dataset):\n",
    "    df = pd.read_csv(f'updated_{dataset}_df.csv')\n",
    "    with open(f'data_dict_{dataset}.pickle', 'rb') as handle:\n",
    "        data_dict = pickle.load(handle)\n",
    "    return df, data_dict\n",
    "\n",
    "train_df, data_dict_train = load_data('train')\n",
    "dev_df, data_dict_dev = load_data('dev')\n",
    "test_df, data_dict_test = load_data('test')\n",
    "\n",
    "data_dicts = {'train': data_dict_train, 'dev': data_dict_dev, 'test': data_dict_test}\n",
    "dataframes = { 'train': {'df':train_df, 'folder':'train_splits'}, 'dev': {'df':dev_df, 'folder':'dev_splits_complete'}, 'test': {'df': test_df, 'folder': 'output_repeated_splits_test'}}"
   ]
  },
  {
   "cell_type": "code",
   "execution_count": 46,
   "metadata": {},
   "outputs": [
    {
     "name": "stdout",
     "output_type": "stream",
     "text": [
      "torch.Size([1, 256])\n"
     ]
    }
   ],
   "source": [
    "print(data_dicts['train'][12]['text']['input_ids'].shape)"
   ]
  },
  {
   "cell_type": "code",
   "execution_count": 45,
   "metadata": {},
   "outputs": [
    {
     "name": "stdout",
     "output_type": "stream",
     "text": [
      "torch.Size([192])\n"
     ]
    }
   ],
   "source": [
    "print(data_dicts['train'][12]['audio'].shape)"
   ]
  },
  {
   "cell_type": "code",
   "execution_count": 44,
   "metadata": {
    "id": "OILk5mu4nz6n"
   },
   "outputs": [
    {
     "name": "stdout",
     "output_type": "stream",
     "text": [
      "text_dim:  768 \n",
      "audio_dim:  192\n"
     ]
    }
   ],
   "source": [
    "text_dim = 768 # Because BERT\n",
    "# audio_dim = data_dicts['train'][1]['audio'].shape[-1]\n",
    "audio_dim = 192 # Because speechbrain ECAPA-TDNN\n",
    "\n",
    "print(\"text_dim: \", text_dim, \"\\naudio_dim: \", audio_dim)"
   ]
  },
  {
   "cell_type": "markdown",
   "metadata": {
    "id": "k1tYKw3aTwHQ"
   },
   "source": [
    "## Contrastive Learning\n",
    "\n",
    "1. Modality Fusion: Use an attention mechanism to combine the audio and text features for each data instance.\n",
    "\n",
    "2. Contrastive Learning: Use a Contrastive Learning approach to train a model that can distinguish between instances with the same emotion (positive pairs) and instances with different emotions (negative pairs).\n",
    "\n",
    "3. Model Architecture.\n",
    "\n",
    "4. Loss Function and Training"
   ]
  },
  {
   "cell_type": "code",
   "execution_count": 51,
   "metadata": {
    "id": "FqoLKXMVTvQp"
   },
   "outputs": [],
   "source": [
    "class Attention(nn.Module):\n",
    "    def __init__(self, in_features):\n",
    "        super(Attention, self).__init__()\n",
    "        self.linear = nn.Linear(in_features, 1)\n",
    "\n",
    "    def forward(self, x):\n",
    "        scores = self.linear(x)\n",
    "        scores = F.softmax(scores, dim=-2) \n",
    "        weighted_sum = scores * x\n",
    "        return torch.sum(weighted_sum, dim=-2)\n",
    "\n",
    "\n",
    "class MultimodalModel(nn.Module):\n",
    "    def __init__(self, audio_dim, text_dim=768):  # Update default text_dim to 768 for BERT embeddings\n",
    "        super(MultimodalModel, self).__init__()\n",
    "        self.audio_attention = Attention(audio_dim)\n",
    "        self.text_attention = Attention(text_dim)\n",
    "        self.fc = nn.Linear(audio_dim+text_dim, 256)\n",
    "\n",
    "    def forward(self, audio, text):\n",
    "        audio_repr = self.audio_attention(audio)\n",
    "        text_repr = self.text_attention(text)\n",
    "        combined = torch.cat((audio_repr, text_repr), dim=1)\n",
    "        out = self.fc(combined)\n",
    "        return F.normalize(out, dim=1)"
   ]
  },
  {
   "cell_type": "code",
   "execution_count": 48,
   "metadata": {
    "id": "EoNwTrDlcDpX"
   },
   "outputs": [],
   "source": [
    "#@title Contrastive Loss Function\n",
    "class TripletMarginLoss(nn.Module):\n",
    "    def __init__(self, margin):\n",
    "        super(TripletMarginLoss, self).__init__()\n",
    "        self.margin = margin\n",
    "\n",
    "    def forward(self, anchor, positive, negative):\n",
    "        pos_dist = F.pairwise_distance(anchor, positive)\n",
    "        neg_dist = F.pairwise_distance(anchor, negative)\n",
    "        loss = F.relu(pos_dist - neg_dist + self.margin)\n",
    "        return loss.mean()"
   ]
  },
  {
   "cell_type": "code",
   "execution_count": 52,
   "metadata": {},
   "outputs": [],
   "source": [
    "class ContrastiveLearningDataset(Dataset):\n",
    "    def __init__(self, data_list):\n",
    "        self.data_list = data_list\n",
    "        self.labels = np.array([item['emotion'] for item in data_list])\n",
    "\n",
    "    def __len__(self):\n",
    "        return len(self.data_list)\n",
    "\n",
    "    def __getitem__(self, idx):\n",
    "        anchor = self.data_list[idx]\n",
    "        positive_idx = np.random.choice(np.where(self.labels == anchor['emotion'])[0])\n",
    "        negative_idx = np.random.choice(np.where(self.labels != anchor['emotion'])[0])\n",
    "        positive = self.data_list[positive_idx]\n",
    "        negative = self.data_list[negative_idx]\n",
    "\n",
    "        return (anchor['audio'].unsqueeze(0), anchor['text']['input_ids'].squeeze(-1)), anchor['emotion'], \\\n",
    "               (positive['audio'].unsqueeze(0), positive['text']['input_ids'].squeeze(-1)), \\\n",
    "               (negative['audio'].unsqueeze(0), negative['text']['input_ids'].squeeze(-1))\n",
    "\n",
    "\n",
    "\n",
    "\n",
    "data_lists = {dataset: list(data_dicts[dataset].values()) for dataset in ['train', 'dev', 'test']}\n",
    "\n",
    "data_loaders = {dataset: DataLoader(ContrastiveLearningDataset(data_lists[dataset]), batch_size=32, shuffle=True, num_workers=num_cores) for dataset in ['train', 'dev', 'test']}"
   ]
  },
  {
   "cell_type": "code",
   "execution_count": 27,
   "metadata": {},
   "outputs": [
    {
     "data": {
      "application/vnd.jupyter.widget-view+json": {
       "model_id": "61b2dab1a7bb4f79a4b2f5ab162db638",
       "version_major": 2,
       "version_minor": 0
      },
      "text/plain": [
       "Downloading pytorch_model.bin:   0%|          | 0.00/440M [00:00<?, ?B/s]"
      ]
     },
     "metadata": {},
     "output_type": "display_data"
    },
    {
     "name": "stderr",
     "output_type": "stream",
     "text": [
      "Some weights of the model checkpoint at bert-base-uncased were not used when initializing BertModel: ['cls.predictions.transform.LayerNorm.weight', 'cls.seq_relationship.bias', 'cls.seq_relationship.weight', 'cls.predictions.bias', 'cls.predictions.decoder.weight', 'cls.predictions.transform.dense.weight', 'cls.predictions.transform.dense.bias', 'cls.predictions.transform.LayerNorm.bias']\n",
      "- This IS expected if you are initializing BertModel from the checkpoint of a model trained on another task or with another architecture (e.g. initializing a BertForSequenceClassification model from a BertForPreTraining model).\n",
      "- This IS NOT expected if you are initializing BertModel from the checkpoint of a model that you expect to be exactly identical (initializing a BertForSequenceClassification model from a BertForSequenceClassification model).\n"
     ]
    }
   ],
   "source": [
    "from transformers import AutoModel\n",
    "\n",
    "bert_model = AutoModel.from_pretrained('bert-base-uncased')"
   ]
  },
  {
   "cell_type": "code",
   "execution_count": null,
   "metadata": {},
   "outputs": [],
   "source": [
    "bert_model.to(device)"
   ]
  },
  {
   "cell_type": "code",
   "execution_count": 66,
   "metadata": {},
   "outputs": [
    {
     "name": "stderr",
     "output_type": "stream",
     "text": [
      "\u001b[32m[I 2023-05-03 18:28:33,468]\u001b[0m A new study created in memory with name: no-name-54eb54cb-1789-45a8-8ad8-b1e39202cb7e\u001b[0m\n",
      "/opt/conda/lib/python3.7/site-packages/ipykernel_launcher.py:15: FutureWarning: suggest_loguniform has been deprecated in v3.0.0. This feature will be removed in v6.0.0. See https://github.com/optuna/optuna/releases/tag/v3.0.0. Use :func:`~optuna.trial.Trial.suggest_float` instead.\n",
      "  from ipykernel import kernelapp as app\n",
      "/opt/conda/lib/python3.7/site-packages/ipykernel_launcher.py:19: FutureWarning: suggest_uniform has been deprecated in v3.0.0. This feature will be removed in v6.0.0. See https://github.com/optuna/optuna/releases/tag/v3.0.0. Use :func:`~optuna.trial.Trial.suggest_float` instead.\n",
      "100%|██████████| 261/261 [01:53<00:00,  2.30it/s]"
     ]
    },
    {
     "name": "stdout",
     "output_type": "stream",
     "text": [
      "[1] loss: 35.993\n",
      "\u001b[96m Now running validation...\n"
     ]
    },
    {
     "name": "stderr",
     "output_type": "stream",
     "text": [
      "\n",
      "100%|██████████| 30/30 [00:12<00:00,  2.36it/s]\n",
      "\u001b[32m[I 2023-05-03 18:30:40,367]\u001b[0m Trial 0 finished with value: 20.28972750902176 and parameters: {'lr': 0.00011440199476855864, 'margin': 0.6993460620691053}. Best is trial 0 with value: 20.28972750902176.\u001b[0m\n"
     ]
    },
    {
     "name": "stdout",
     "output_type": "stream",
     "text": [
      "\u001b[94m New best validation loss achieved!  20.28972750902176\n",
      "\u001b[94m Best margin  0.6993460620691053\n",
      "\u001b[94m Best lr  0.00011440199476855864\n"
     ]
    },
    {
     "name": "stderr",
     "output_type": "stream",
     "text": [
      "100%|██████████| 261/261 [01:53<00:00,  2.30it/s]"
     ]
    },
    {
     "name": "stdout",
     "output_type": "stream",
     "text": [
      "[1] loss: 46.232\n",
      "\u001b[96m Now running validation...\n"
     ]
    },
    {
     "name": "stderr",
     "output_type": "stream",
     "text": [
      "\n",
      "100%|██████████| 30/30 [00:12<00:00,  2.35it/s]\n",
      "\u001b[32m[I 2023-05-03 18:32:47,506]\u001b[0m Trial 1 finished with value: 20.28972750902176 and parameters: {'lr': 0.00011198152075917178, 'margin': 0.8924595126198741}. Best is trial 0 with value: 20.28972750902176.\u001b[0m\n",
      "100%|██████████| 261/261 [01:53<00:00,  2.30it/s]"
     ]
    },
    {
     "name": "stdout",
     "output_type": "stream",
     "text": [
      "[1] loss: 24.667\n",
      "\u001b[96m Now running validation...\n"
     ]
    },
    {
     "name": "stderr",
     "output_type": "stream",
     "text": [
      "\n",
      "100%|██████████| 30/30 [00:12<00:00,  2.36it/s]\n",
      "\u001b[32m[I 2023-05-03 18:34:54,782]\u001b[0m Trial 2 finished with value: 11.91694888472557 and parameters: {'lr': 0.0008614685172137129, 'margin': 0.5027157614858289}. Best is trial 2 with value: 11.91694888472557.\u001b[0m\n"
     ]
    },
    {
     "name": "stdout",
     "output_type": "stream",
     "text": [
      "\u001b[94m New best validation loss achieved!  11.91694888472557\n",
      "\u001b[94m Best margin  0.5027157614858289\n",
      "\u001b[94m Best lr  0.0008614685172137129\n"
     ]
    },
    {
     "name": "stderr",
     "output_type": "stream",
     "text": [
      "100%|██████████| 261/261 [01:53<00:00,  2.29it/s]"
     ]
    },
    {
     "name": "stdout",
     "output_type": "stream",
     "text": [
      "[1] loss: 10.440\n",
      "\u001b[96m Now running validation...\n"
     ]
    },
    {
     "name": "stderr",
     "output_type": "stream",
     "text": [
      "\n",
      "100%|██████████| 30/30 [00:12<00:00,  2.35it/s]\n",
      "\u001b[32m[I 2023-05-03 18:37:02,149]\u001b[0m Trial 3 finished with value: 5.762997433543205 and parameters: {'lr': 0.0053127879769354035, 'margin': 0.2024527666515041}. Best is trial 3 with value: 5.762997433543205.\u001b[0m\n"
     ]
    },
    {
     "name": "stdout",
     "output_type": "stream",
     "text": [
      "\u001b[94m New best validation loss achieved!  5.762997433543205\n",
      "\u001b[94m Best margin  0.2024527666515041\n",
      "\u001b[94m Best lr  0.0053127879769354035\n"
     ]
    },
    {
     "name": "stderr",
     "output_type": "stream",
     "text": [
      "100%|██████████| 261/261 [01:53<00:00,  2.30it/s]"
     ]
    },
    {
     "name": "stdout",
     "output_type": "stream",
     "text": [
      "[1] loss: 20.188\n",
      "\u001b[96m Now running validation...\n"
     ]
    },
    {
     "name": "stderr",
     "output_type": "stream",
     "text": [
      "\n",
      "100%|██████████| 30/30 [00:12<00:00,  2.35it/s]\n",
      "\u001b[32m[I 2023-05-03 18:39:09,375]\u001b[0m Trial 4 finished with value: 5.762997433543205 and parameters: {'lr': 0.015190782425737995, 'margin': 0.3970048223060436}. Best is trial 3 with value: 5.762997433543205.\u001b[0m\n",
      "100%|██████████| 261/261 [01:53<00:00,  2.29it/s]\n"
     ]
    },
    {
     "name": "stdout",
     "output_type": "stream",
     "text": [
      "[1] loss: 18.483\n",
      "\u001b[96m Now running validation...\n"
     ]
    },
    {
     "name": "stderr",
     "output_type": "stream",
     "text": [
      "100%|██████████| 30/30 [00:12<00:00,  2.35it/s]\n",
      "\u001b[32m[I 2023-05-03 18:41:16,704]\u001b[0m Trial 5 finished with value: 5.762997433543205 and parameters: {'lr': 0.0009594795404319104, 'margin': 0.38282449019923936}. Best is trial 3 with value: 5.762997433543205.\u001b[0m\n",
      "100%|██████████| 261/261 [01:53<00:00,  2.29it/s]"
     ]
    },
    {
     "name": "stdout",
     "output_type": "stream",
     "text": [
      "[1] loss: 9.053\n",
      "\u001b[96m Now running validation...\n"
     ]
    },
    {
     "name": "stderr",
     "output_type": "stream",
     "text": [
      "\n",
      "100%|██████████| 30/30 [00:12<00:00,  2.36it/s]\n",
      "\u001b[32m[I 2023-05-03 18:43:24,000]\u001b[0m Trial 6 finished with value: 5.051897346973419 and parameters: {'lr': 0.0037478886079350036, 'margin': 0.17329740882958927}. Best is trial 6 with value: 5.051897346973419.\u001b[0m\n"
     ]
    },
    {
     "name": "stdout",
     "output_type": "stream",
     "text": [
      "\u001b[94m New best validation loss achieved!  5.051897346973419\n",
      "\u001b[94m Best margin  0.17329740882958927\n",
      "\u001b[94m Best lr  0.0037478886079350036\n"
     ]
    },
    {
     "name": "stderr",
     "output_type": "stream",
     "text": [
      "100%|██████████| 261/261 [01:53<00:00,  2.30it/s]"
     ]
    },
    {
     "name": "stdout",
     "output_type": "stream",
     "text": [
      "[1] loss: 24.495\n",
      "\u001b[96m Now running validation...\n"
     ]
    },
    {
     "name": "stderr",
     "output_type": "stream",
     "text": [
      "\n",
      "100%|██████████| 30/30 [00:12<00:00,  2.35it/s]\n",
      "\u001b[32m[I 2023-05-03 18:45:31,230]\u001b[0m Trial 7 finished with value: 5.051897346973419 and parameters: {'lr': 0.0002599766645564623, 'margin': 0.47557957381487304}. Best is trial 6 with value: 5.051897346973419.\u001b[0m\n",
      "100%|██████████| 261/261 [01:53<00:00,  2.30it/s]"
     ]
    },
    {
     "name": "stdout",
     "output_type": "stream",
     "text": [
      "[1] loss: 9.190\n",
      "\u001b[96m Now running validation...\n"
     ]
    },
    {
     "name": "stderr",
     "output_type": "stream",
     "text": [
      "\n",
      "100%|██████████| 30/30 [00:12<00:00,  2.36it/s]\n",
      "\u001b[32m[I 2023-05-03 18:47:38,394]\u001b[0m Trial 8 finished with value: 4.908187165856361 and parameters: {'lr': 0.003993793542077937, 'margin': 0.17762825676347993}. Best is trial 8 with value: 4.908187165856361.\u001b[0m\n"
     ]
    },
    {
     "name": "stdout",
     "output_type": "stream",
     "text": [
      "\u001b[94m New best validation loss achieved!  4.908187165856361\n",
      "\u001b[94m Best margin  0.17762825676347993\n",
      "\u001b[94m Best lr  0.003993793542077937\n"
     ]
    },
    {
     "name": "stderr",
     "output_type": "stream",
     "text": [
      "100%|██████████| 261/261 [01:53<00:00,  2.29it/s]"
     ]
    },
    {
     "name": "stdout",
     "output_type": "stream",
     "text": [
      "[1] loss: 39.642\n",
      "\u001b[96m Now running validation...\n"
     ]
    },
    {
     "name": "stderr",
     "output_type": "stream",
     "text": [
      "\n",
      "100%|██████████| 30/30 [00:12<00:00,  2.36it/s]\n",
      "\u001b[32m[I 2023-05-03 18:49:45,702]\u001b[0m Trial 9 finished with value: 4.908187165856361 and parameters: {'lr': 0.09156417899892902, 'margin': 0.7865473298532892}. Best is trial 8 with value: 4.908187165856361.\u001b[0m\n",
      "100%|██████████| 261/261 [01:53<00:00,  2.30it/s]"
     ]
    },
    {
     "name": "stdout",
     "output_type": "stream",
     "text": [
      "[1] loss: 6.774\n",
      "\u001b[96m Now running validation...\n"
     ]
    },
    {
     "name": "stderr",
     "output_type": "stream",
     "text": [
      "\n",
      "100%|██████████| 30/30 [00:12<00:00,  2.36it/s]\n",
      "\u001b[32m[I 2023-05-03 18:51:52,937]\u001b[0m Trial 10 finished with value: 3.775557555258274 and parameters: {'lr': 1.154327802455961e-05, 'margin': 0.11266765142051002}. Best is trial 10 with value: 3.775557555258274.\u001b[0m\n"
     ]
    },
    {
     "name": "stdout",
     "output_type": "stream",
     "text": [
      "\u001b[94m New best validation loss achieved!  3.775557555258274\n",
      "\u001b[94m Best margin  0.11266765142051002\n",
      "\u001b[94m Best lr  1.154327802455961e-05\n"
     ]
    },
    {
     "name": "stderr",
     "output_type": "stream",
     "text": [
      "100%|██████████| 261/261 [01:53<00:00,  2.30it/s]"
     ]
    },
    {
     "name": "stdout",
     "output_type": "stream",
     "text": [
      "[1] loss: 7.074\n",
      "\u001b[96m Now running validation...\n"
     ]
    },
    {
     "name": "stderr",
     "output_type": "stream",
     "text": [
      "\n",
      "100%|██████████| 30/30 [00:12<00:00,  2.35it/s]\n",
      "\u001b[32m[I 2023-05-03 18:54:00,119]\u001b[0m Trial 11 finished with value: 3.775557555258274 and parameters: {'lr': 1.7154765652557325e-05, 'margin': 0.12132764661844389}. Best is trial 10 with value: 3.775557555258274.\u001b[0m\n",
      "100%|██████████| 261/261 [01:53<00:00,  2.29it/s]"
     ]
    },
    {
     "name": "stdout",
     "output_type": "stream",
     "text": [
      "[1] loss: 6.914\n",
      "\u001b[96m Now running validation...\n"
     ]
    },
    {
     "name": "stderr",
     "output_type": "stream",
     "text": [
      "\n",
      "100%|██████████| 30/30 [00:12<00:00,  2.35it/s]\n",
      "\u001b[32m[I 2023-05-03 18:56:07,502]\u001b[0m Trial 12 finished with value: 3.5887641832232475 and parameters: {'lr': 1.1847026865847209e-05, 'margin': 0.11347280642662437}. Best is trial 12 with value: 3.5887641832232475.\u001b[0m\n"
     ]
    },
    {
     "name": "stdout",
     "output_type": "stream",
     "text": [
      "\u001b[94m New best validation loss achieved!  3.5887641832232475\n",
      "\u001b[94m Best margin  0.11347280642662437\n",
      "\u001b[94m Best lr  1.1847026865847209e-05\n"
     ]
    },
    {
     "name": "stderr",
     "output_type": "stream",
     "text": [
      "100%|██████████| 261/261 [01:53<00:00,  2.30it/s]"
     ]
    },
    {
     "name": "stdout",
     "output_type": "stream",
     "text": [
      "[1] loss: 15.400\n",
      "\u001b[96m Now running validation...\n"
     ]
    },
    {
     "name": "stderr",
     "output_type": "stream",
     "text": [
      "\n",
      "100%|██████████| 30/30 [00:12<00:00,  2.35it/s]\n",
      "\u001b[32m[I 2023-05-03 18:58:14,779]\u001b[0m Trial 13 finished with value: 3.5887641832232475 and parameters: {'lr': 1.1098063302285339e-05, 'margin': 0.2968363240021017}. Best is trial 12 with value: 3.5887641832232475.\u001b[0m\n",
      "100%|██████████| 261/261 [01:53<00:00,  2.30it/s]"
     ]
    },
    {
     "name": "stdout",
     "output_type": "stream",
     "text": [
      "[1] loss: 15.160\n",
      "\u001b[96m Now running validation...\n"
     ]
    },
    {
     "name": "stderr",
     "output_type": "stream",
     "text": [
      "\n",
      "100%|██████████| 30/30 [00:12<00:00,  2.35it/s]\n",
      "\u001b[32m[I 2023-05-03 19:00:22,010]\u001b[0m Trial 14 finished with value: 3.5887641832232475 and parameters: {'lr': 3.579568441283513e-05, 'margin': 0.29127001610670517}. Best is trial 12 with value: 3.5887641832232475.\u001b[0m\n",
      "100%|██████████| 261/261 [01:53<00:00,  2.29it/s]"
     ]
    },
    {
     "name": "stdout",
     "output_type": "stream",
     "text": [
      "[1] loss: 15.110\n",
      "\u001b[96m Now running validation...\n"
     ]
    },
    {
     "name": "stderr",
     "output_type": "stream",
     "text": [
      "\n",
      "100%|██████████| 30/30 [00:12<00:00,  2.36it/s]\n",
      "\u001b[32m[I 2023-05-03 19:02:29,304]\u001b[0m Trial 15 finished with value: 3.5887641832232475 and parameters: {'lr': 1.0151116305639314e-05, 'margin': 0.2899052806722142}. Best is trial 12 with value: 3.5887641832232475.\u001b[0m\n",
      "100%|██████████| 261/261 [01:53<00:00,  2.29it/s]"
     ]
    },
    {
     "name": "stdout",
     "output_type": "stream",
     "text": [
      "[1] loss: 32.136\n",
      "\u001b[96m Now running validation...\n"
     ]
    },
    {
     "name": "stderr",
     "output_type": "stream",
     "text": [
      "\n",
      "100%|██████████| 30/30 [00:12<00:00,  2.35it/s]\n",
      "\u001b[32m[I 2023-05-03 19:04:36,660]\u001b[0m Trial 16 finished with value: 3.5887641832232475 and parameters: {'lr': 3.945109975331213e-05, 'margin': 0.6162817141035974}. Best is trial 12 with value: 3.5887641832232475.\u001b[0m\n",
      "100%|██████████| 261/261 [01:53<00:00,  2.30it/s]"
     ]
    },
    {
     "name": "stdout",
     "output_type": "stream",
     "text": [
      "[1] loss: 13.982\n",
      "\u001b[96m Now running validation...\n"
     ]
    },
    {
     "name": "stderr",
     "output_type": "stream",
     "text": [
      "\n",
      "100%|██████████| 30/30 [00:12<00:00,  2.36it/s]\n",
      "\u001b[32m[I 2023-05-03 19:06:43,897]\u001b[0m Trial 17 finished with value: 3.5887641832232475 and parameters: {'lr': 3.7291218216824424e-05, 'margin': 0.2686305273364953}. Best is trial 12 with value: 3.5887641832232475.\u001b[0m\n",
      "100%|██████████| 261/261 [01:53<00:00,  2.30it/s]"
     ]
    },
    {
     "name": "stdout",
     "output_type": "stream",
     "text": [
      "[1] loss: 20.387\n",
      "\u001b[96m Now running validation...\n"
     ]
    },
    {
     "name": "stderr",
     "output_type": "stream",
     "text": [
      "\n",
      "100%|██████████| 30/30 [00:12<00:00,  2.36it/s]\n",
      "\u001b[32m[I 2023-05-03 19:08:51,171]\u001b[0m Trial 18 finished with value: 3.5887641832232475 and parameters: {'lr': 0.0002302090542239286, 'margin': 0.3952931292925728}. Best is trial 12 with value: 3.5887641832232475.\u001b[0m\n",
      "100%|██████████| 261/261 [01:53<00:00,  2.29it/s]"
     ]
    },
    {
     "name": "stdout",
     "output_type": "stream",
     "text": [
      "[1] loss: 6.494\n",
      "\u001b[96m Now running validation...\n"
     ]
    },
    {
     "name": "stderr",
     "output_type": "stream",
     "text": [
      "\n",
      "100%|██████████| 30/30 [00:12<00:00,  2.36it/s]\n",
      "\u001b[32m[I 2023-05-03 19:10:58,500]\u001b[0m Trial 19 finished with value: 3.5798910707235336 and parameters: {'lr': 2.566965977751964e-05, 'margin': 0.10707275585447175}. Best is trial 19 with value: 3.5798910707235336.\u001b[0m\n"
     ]
    },
    {
     "name": "stdout",
     "output_type": "stream",
     "text": [
      "\u001b[94m New best validation loss achieved!  3.5798910707235336\n",
      "\u001b[94m Best margin  0.10707275585447175\n",
      "\u001b[94m Best lr  2.566965977751964e-05\n"
     ]
    },
    {
     "name": "stderr",
     "output_type": "stream",
     "text": [
      "100%|██████████| 261/261 [01:53<00:00,  2.30it/s]"
     ]
    },
    {
     "name": "stdout",
     "output_type": "stream",
     "text": [
      "[1] loss: 6.003\n",
      "\u001b[96m Now running validation...\n"
     ]
    },
    {
     "name": "stderr",
     "output_type": "stream",
     "text": [
      "\n",
      "100%|██████████| 30/30 [00:12<00:00,  2.35it/s]\n",
      "\u001b[32m[I 2023-05-03 19:13:05,684]\u001b[0m Trial 20 finished with value: 3.5241395384073257 and parameters: {'lr': 6.455945961578103e-05, 'margin': 0.10010130752358352}. Best is trial 20 with value: 3.5241395384073257.\u001b[0m\n"
     ]
    },
    {
     "name": "stdout",
     "output_type": "stream",
     "text": [
      "\u001b[94m New best validation loss achieved!  3.5241395384073257\n",
      "\u001b[94m Best margin  0.10010130752358352\n",
      "\u001b[94m Best lr  6.455945961578103e-05\n"
     ]
    },
    {
     "name": "stderr",
     "output_type": "stream",
     "text": [
      "100%|██████████| 261/261 [01:53<00:00,  2.29it/s]"
     ]
    },
    {
     "name": "stdout",
     "output_type": "stream",
     "text": [
      "[1] loss: 6.477\n",
      "\u001b[96m Now running validation...\n"
     ]
    },
    {
     "name": "stderr",
     "output_type": "stream",
     "text": [
      "\n",
      "100%|██████████| 30/30 [00:12<00:00,  2.35it/s]\n",
      "\u001b[32m[I 2023-05-03 19:15:12,999]\u001b[0m Trial 21 finished with value: 3.5241395384073257 and parameters: {'lr': 2.8398971682779253e-05, 'margin': 0.10700391727839839}. Best is trial 20 with value: 3.5241395384073257.\u001b[0m\n",
      "100%|██████████| 261/261 [01:53<00:00,  2.29it/s]"
     ]
    },
    {
     "name": "stdout",
     "output_type": "stream",
     "text": [
      "[1] loss: 11.493\n",
      "\u001b[96m Now running validation...\n"
     ]
    },
    {
     "name": "stderr",
     "output_type": "stream",
     "text": [
      "\n",
      "100%|██████████| 30/30 [00:12<00:00,  2.36it/s]\n",
      "\u001b[32m[I 2023-05-03 19:17:20,331]\u001b[0m Trial 22 finished with value: 3.5241395384073257 and parameters: {'lr': 6.090223293766214e-05, 'margin': 0.2170202645297456}. Best is trial 20 with value: 3.5241395384073257.\u001b[0m\n",
      "100%|██████████| 261/261 [01:53<00:00,  2.30it/s]"
     ]
    },
    {
     "name": "stdout",
     "output_type": "stream",
     "text": [
      "[1] loss: 10.927\n",
      "\u001b[96m Now running validation...\n"
     ]
    },
    {
     "name": "stderr",
     "output_type": "stream",
     "text": [
      "\n",
      "100%|██████████| 30/30 [00:12<00:00,  2.36it/s]\n",
      "\u001b[32m[I 2023-05-03 19:19:27,582]\u001b[0m Trial 23 finished with value: 3.5241395384073257 and parameters: {'lr': 7.07412028616547e-05, 'margin': 0.20924253690877315}. Best is trial 20 with value: 3.5241395384073257.\u001b[0m\n",
      "100%|██████████| 261/261 [01:53<00:00,  2.30it/s]"
     ]
    },
    {
     "name": "stdout",
     "output_type": "stream",
     "text": [
      "[1] loss: 11.823\n",
      "\u001b[96m Now running validation...\n"
     ]
    },
    {
     "name": "stderr",
     "output_type": "stream",
     "text": [
      "\n",
      "100%|██████████| 30/30 [00:12<00:00,  2.36it/s]\n",
      "\u001b[32m[I 2023-05-03 19:21:34,810]\u001b[0m Trial 24 finished with value: 3.5241395384073257 and parameters: {'lr': 5.77365508093745e-05, 'margin': 0.2258777098123385}. Best is trial 20 with value: 3.5241395384073257.\u001b[0m\n",
      "100%|██████████| 261/261 [01:53<00:00,  2.29it/s]"
     ]
    },
    {
     "name": "stdout",
     "output_type": "stream",
     "text": [
      "[1] loss: 9.937\n",
      "\u001b[96m Now running validation...\n"
     ]
    },
    {
     "name": "stderr",
     "output_type": "stream",
     "text": [
      "\n",
      "100%|██████████| 30/30 [00:12<00:00,  2.36it/s]\n",
      "\u001b[32m[I 2023-05-03 19:23:42,125]\u001b[0m Trial 25 finished with value: 3.5241395384073257 and parameters: {'lr': 2.5308272924300644e-05, 'margin': 0.18484532583689828}. Best is trial 20 with value: 3.5241395384073257.\u001b[0m\n",
      "100%|██████████| 261/261 [01:53<00:00,  2.29it/s]"
     ]
    },
    {
     "name": "stdout",
     "output_type": "stream",
     "text": [
      "[1] loss: 17.611\n",
      "\u001b[96m Now running validation...\n"
     ]
    },
    {
     "name": "stderr",
     "output_type": "stream",
     "text": [
      "\n",
      "100%|██████████| 30/30 [00:12<00:00,  2.36it/s]\n",
      "\u001b[32m[I 2023-05-03 19:25:49,488]\u001b[0m Trial 26 finished with value: 3.5241395384073257 and parameters: {'lr': 0.00019576744945731643, 'margin': 0.3454985586646844}. Best is trial 20 with value: 3.5241395384073257.\u001b[0m\n",
      "100%|██████████| 261/261 [01:53<00:00,  2.30it/s]"
     ]
    },
    {
     "name": "stdout",
     "output_type": "stream",
     "text": [
      "[1] loss: 12.709\n",
      "\u001b[96m Now running validation...\n"
     ]
    },
    {
     "name": "stderr",
     "output_type": "stream",
     "text": [
      "\n",
      "100%|██████████| 30/30 [00:12<00:00,  2.35it/s]\n",
      "\u001b[32m[I 2023-05-03 19:27:56,745]\u001b[0m Trial 27 finished with value: 3.5241395384073257 and parameters: {'lr': 6.288192374575232e-05, 'margin': 0.24286919892319625}. Best is trial 20 with value: 3.5241395384073257.\u001b[0m\n",
      "100%|██████████| 261/261 [01:53<00:00,  2.29it/s]"
     ]
    },
    {
     "name": "stdout",
     "output_type": "stream",
     "text": [
      "[1] loss: 8.850\n",
      "\u001b[96m Now running validation...\n"
     ]
    },
    {
     "name": "stderr",
     "output_type": "stream",
     "text": [
      "\n",
      "100%|██████████| 30/30 [00:12<00:00,  2.35it/s]\n",
      "\u001b[32m[I 2023-05-03 19:30:04,082]\u001b[0m Trial 28 finished with value: 3.5241395384073257 and parameters: {'lr': 0.0004955555815563593, 'margin': 0.1689009734814351}. Best is trial 20 with value: 3.5241395384073257.\u001b[0m\n",
      "100%|██████████| 261/261 [01:53<00:00,  2.29it/s]"
     ]
    },
    {
     "name": "stdout",
     "output_type": "stream",
     "text": [
      "[1] loss: 6.112\n",
      "\u001b[96m Now running validation...\n"
     ]
    },
    {
     "name": "stderr",
     "output_type": "stream",
     "text": [
      "\n",
      "100%|██████████| 30/30 [00:12<00:00,  2.35it/s]\n",
      "\u001b[32m[I 2023-05-03 19:32:11,406]\u001b[0m Trial 29 finished with value: 3.3454510271549225 and parameters: {'lr': 0.00012244720983334244, 'margin': 0.10518294052119545}. Best is trial 29 with value: 3.3454510271549225.\u001b[0m\n"
     ]
    },
    {
     "name": "stdout",
     "output_type": "stream",
     "text": [
      "\u001b[94m New best validation loss achieved!  3.3454510271549225\n",
      "\u001b[94m Best margin  0.10518294052119545\n",
      "\u001b[94m Best lr  0.00012244720983334244\n"
     ]
    },
    {
     "name": "stderr",
     "output_type": "stream",
     "text": [
      "100%|██████████| 261/261 [01:53<00:00,  2.30it/s]"
     ]
    },
    {
     "name": "stdout",
     "output_type": "stream",
     "text": [
      "[1] loss: 5.889\n",
      "\u001b[96m Now running validation...\n"
     ]
    },
    {
     "name": "stderr",
     "output_type": "stream",
     "text": [
      "\n",
      "100%|██████████| 30/30 [00:12<00:00,  2.35it/s]"
     ]
    },
    {
     "name": "stdout",
     "output_type": "stream",
     "text": [
      "\u001b[94m New best validation loss achieved!  3.13708333671093\n",
      "\u001b[94m Best margin  0.10518294052119545\n",
      "\u001b[94m Best lr  0.00012244720983334244\n"
     ]
    },
    {
     "name": "stderr",
     "output_type": "stream",
     "text": [
      "\n",
      "100%|██████████| 261/261 [01:53<00:00,  2.30it/s]"
     ]
    },
    {
     "name": "stdout",
     "output_type": "stream",
     "text": [
      "\u001b[96m Now running validation...\n"
     ]
    },
    {
     "name": "stderr",
     "output_type": "stream",
     "text": [
      "\n",
      "100%|██████████| 30/30 [00:12<00:00,  2.35it/s]\n",
      "100%|██████████| 261/261 [01:53<00:00,  2.29it/s]"
     ]
    },
    {
     "name": "stdout",
     "output_type": "stream",
     "text": [
      "\u001b[96m Now running validation...\n"
     ]
    },
    {
     "name": "stderr",
     "output_type": "stream",
     "text": [
      "\n",
      "100%|██████████| 30/30 [00:12<00:00,  2.36it/s]"
     ]
    },
    {
     "name": "stdout",
     "output_type": "stream",
     "text": [
      "\u001b[94m New best validation loss achieved!  3.0420736894011497\n",
      "\u001b[94m Best margin  0.10518294052119545\n",
      "\u001b[94m Best lr  0.00012244720983334244\n"
     ]
    },
    {
     "name": "stderr",
     "output_type": "stream",
     "text": [
      "\n",
      "100%|██████████| 261/261 [01:53<00:00,  2.30it/s]"
     ]
    },
    {
     "name": "stdout",
     "output_type": "stream",
     "text": [
      "\u001b[96m Now running validation...\n"
     ]
    },
    {
     "name": "stderr",
     "output_type": "stream",
     "text": [
      "\n",
      "100%|██████████| 30/30 [00:12<00:00,  2.36it/s]\n",
      "100%|██████████| 261/261 [01:53<00:00,  2.30it/s]"
     ]
    },
    {
     "name": "stdout",
     "output_type": "stream",
     "text": [
      "\u001b[96m Now running validation...\n"
     ]
    },
    {
     "name": "stderr",
     "output_type": "stream",
     "text": [
      "\n",
      "100%|██████████| 30/30 [00:12<00:00,  2.36it/s]"
     ]
    },
    {
     "name": "stdout",
     "output_type": "stream",
     "text": [
      "\u001b[94m New best validation loss achieved!  2.8562482818961143\n",
      "\u001b[94m Best margin  0.10518294052119545\n",
      "\u001b[94m Best lr  0.00012244720983334244\n"
     ]
    },
    {
     "name": "stderr",
     "output_type": "stream",
     "text": [
      "\n",
      "100%|██████████| 261/261 [01:53<00:00,  2.29it/s]"
     ]
    },
    {
     "name": "stdout",
     "output_type": "stream",
     "text": [
      "[6] loss: 4.962\n",
      "\u001b[96m Now running validation...\n"
     ]
    },
    {
     "name": "stderr",
     "output_type": "stream",
     "text": [
      "\n",
      "100%|██████████| 30/30 [00:12<00:00,  2.36it/s]\n",
      "100%|██████████| 261/261 [01:53<00:00,  2.30it/s]"
     ]
    },
    {
     "name": "stdout",
     "output_type": "stream",
     "text": [
      "\u001b[96m Now running validation...\n"
     ]
    },
    {
     "name": "stderr",
     "output_type": "stream",
     "text": [
      "\n",
      "100%|██████████| 30/30 [00:12<00:00,  2.35it/s]\n",
      "100%|██████████| 261/261 [01:53<00:00,  2.30it/s]"
     ]
    },
    {
     "name": "stdout",
     "output_type": "stream",
     "text": [
      "\u001b[96m Now running validation...\n"
     ]
    },
    {
     "name": "stderr",
     "output_type": "stream",
     "text": [
      "\n",
      "100%|██████████| 30/30 [00:12<00:00,  2.35it/s]"
     ]
    },
    {
     "name": "stdout",
     "output_type": "stream",
     "text": [
      "\u001b[94m New best validation loss achieved!  2.8064755760133266\n",
      "\u001b[94m Best margin  0.10518294052119545\n",
      "\u001b[94m Best lr  0.00012244720983334244\n"
     ]
    },
    {
     "name": "stderr",
     "output_type": "stream",
     "text": [
      "\n",
      "100%|██████████| 261/261 [01:53<00:00,  2.29it/s]"
     ]
    },
    {
     "name": "stdout",
     "output_type": "stream",
     "text": [
      "\u001b[96m Now running validation...\n"
     ]
    },
    {
     "name": "stderr",
     "output_type": "stream",
     "text": [
      "\n",
      "100%|██████████| 30/30 [00:12<00:00,  2.35it/s]"
     ]
    },
    {
     "name": "stdout",
     "output_type": "stream",
     "text": [
      "\u001b[94m New best validation loss achieved!  2.592668764293194\n",
      "\u001b[94m Best margin  0.10518294052119545\n",
      "\u001b[94m Best lr  0.00012244720983334244\n"
     ]
    },
    {
     "name": "stderr",
     "output_type": "stream",
     "text": [
      "\n",
      "100%|██████████| 261/261 [01:53<00:00,  2.30it/s]"
     ]
    },
    {
     "name": "stdout",
     "output_type": "stream",
     "text": [
      "\u001b[96m Now running validation...\n"
     ]
    },
    {
     "name": "stderr",
     "output_type": "stream",
     "text": [
      "\n",
      "100%|██████████| 30/30 [00:12<00:00,  2.36it/s]\n",
      "100%|██████████| 261/261 [01:53<00:00,  2.30it/s]"
     ]
    },
    {
     "name": "stdout",
     "output_type": "stream",
     "text": [
      "[11] loss: 4.799\n",
      "\u001b[96m Now running validation...\n"
     ]
    },
    {
     "name": "stderr",
     "output_type": "stream",
     "text": [
      "\n",
      "100%|██████████| 30/30 [00:12<00:00,  2.36it/s]\n",
      "100%|██████████| 261/261 [01:53<00:00,  2.30it/s]"
     ]
    },
    {
     "name": "stdout",
     "output_type": "stream",
     "text": [
      "\u001b[96m Now running validation...\n"
     ]
    },
    {
     "name": "stderr",
     "output_type": "stream",
     "text": [
      "\n",
      "100%|██████████| 30/30 [00:12<00:00,  2.35it/s]\n",
      "100%|██████████| 261/261 [01:53<00:00,  2.30it/s]"
     ]
    },
    {
     "name": "stdout",
     "output_type": "stream",
     "text": [
      "\u001b[96m Now running validation...\n"
     ]
    },
    {
     "name": "stderr",
     "output_type": "stream",
     "text": [
      "\n",
      "100%|██████████| 30/30 [00:12<00:00,  2.35it/s]\n",
      "100%|██████████| 261/261 [01:53<00:00,  2.30it/s]"
     ]
    },
    {
     "name": "stdout",
     "output_type": "stream",
     "text": [
      "\u001b[96m Now running validation...\n"
     ]
    },
    {
     "name": "stderr",
     "output_type": "stream",
     "text": [
      "\n",
      "100%|██████████| 30/30 [00:12<00:00,  2.36it/s]\n",
      "100%|██████████| 261/261 [01:53<00:00,  2.29it/s]"
     ]
    },
    {
     "name": "stdout",
     "output_type": "stream",
     "text": [
      "\u001b[96m Now running validation...\n"
     ]
    },
    {
     "name": "stderr",
     "output_type": "stream",
     "text": [
      "\n",
      "100%|██████████| 30/30 [00:12<00:00,  2.36it/s]\n",
      "100%|██████████| 261/261 [01:53<00:00,  2.30it/s]"
     ]
    },
    {
     "name": "stdout",
     "output_type": "stream",
     "text": [
      "[16] loss: 4.684\n",
      "\u001b[96m Now running validation...\n"
     ]
    },
    {
     "name": "stderr",
     "output_type": "stream",
     "text": [
      "\n",
      "100%|██████████| 30/30 [00:12<00:00,  2.36it/s]\n",
      "100%|██████████| 261/261 [01:53<00:00,  2.30it/s]"
     ]
    },
    {
     "name": "stdout",
     "output_type": "stream",
     "text": [
      "\u001b[96m Now running validation...\n"
     ]
    },
    {
     "name": "stderr",
     "output_type": "stream",
     "text": [
      "\n",
      "100%|██████████| 30/30 [00:12<00:00,  2.35it/s]\n",
      "100%|██████████| 261/261 [01:53<00:00,  2.29it/s]"
     ]
    },
    {
     "name": "stdout",
     "output_type": "stream",
     "text": [
      "\u001b[96m Now running validation...\n"
     ]
    },
    {
     "name": "stderr",
     "output_type": "stream",
     "text": [
      "\n",
      "100%|██████████| 30/30 [00:12<00:00,  2.35it/s]\n",
      "100%|██████████| 261/261 [01:53<00:00,  2.30it/s]"
     ]
    },
    {
     "name": "stdout",
     "output_type": "stream",
     "text": [
      "\u001b[96m Now running validation...\n"
     ]
    },
    {
     "name": "stderr",
     "output_type": "stream",
     "text": [
      "\n",
      "100%|██████████| 30/30 [00:12<00:00,  2.35it/s]\n",
      "100%|██████████| 261/261 [01:53<00:00,  2.30it/s]"
     ]
    },
    {
     "name": "stdout",
     "output_type": "stream",
     "text": [
      "\u001b[96m Now running validation...\n"
     ]
    },
    {
     "name": "stderr",
     "output_type": "stream",
     "text": [
      "\n",
      "100%|██████████| 30/30 [00:12<00:00,  2.35it/s]"
     ]
    },
    {
     "name": "stdout",
     "output_type": "stream",
     "text": [
      "\u001b[94m New best validation loss achieved!  2.4147740341722965\n",
      "\u001b[94m Best margin  0.10518294052119545\n",
      "\u001b[94m Best lr  0.00012244720983334244\n"
     ]
    },
    {
     "name": "stderr",
     "output_type": "stream",
     "text": [
      "\n",
      "100%|██████████| 261/261 [01:53<00:00,  2.29it/s]"
     ]
    },
    {
     "name": "stdout",
     "output_type": "stream",
     "text": [
      "[21] loss: 4.640\n",
      "\u001b[96m Now running validation...\n"
     ]
    },
    {
     "name": "stderr",
     "output_type": "stream",
     "text": [
      "\n",
      "100%|██████████| 30/30 [00:12<00:00,  2.36it/s]\n",
      "100%|██████████| 261/261 [01:53<00:00,  2.30it/s]"
     ]
    },
    {
     "name": "stdout",
     "output_type": "stream",
     "text": [
      "\u001b[96m Now running validation...\n"
     ]
    },
    {
     "name": "stderr",
     "output_type": "stream",
     "text": [
      "\n",
      "100%|██████████| 30/30 [00:12<00:00,  2.36it/s]\n",
      "100%|██████████| 261/261 [01:53<00:00,  2.30it/s]"
     ]
    },
    {
     "name": "stdout",
     "output_type": "stream",
     "text": [
      "\u001b[96m Now running validation...\n"
     ]
    },
    {
     "name": "stderr",
     "output_type": "stream",
     "text": [
      "\n",
      "100%|██████████| 30/30 [00:12<00:00,  2.36it/s]\n",
      "100%|██████████| 261/261 [01:53<00:00,  2.30it/s]"
     ]
    },
    {
     "name": "stdout",
     "output_type": "stream",
     "text": [
      "\u001b[96m Now running validation...\n"
     ]
    },
    {
     "name": "stderr",
     "output_type": "stream",
     "text": [
      "\n",
      "100%|██████████| 30/30 [00:12<00:00,  2.35it/s]\n",
      "100%|██████████| 261/261 [01:53<00:00,  2.30it/s]"
     ]
    },
    {
     "name": "stdout",
     "output_type": "stream",
     "text": [
      "\u001b[96m Now running validation...\n"
     ]
    },
    {
     "name": "stderr",
     "output_type": "stream",
     "text": [
      "\n",
      "100%|██████████| 30/30 [00:12<00:00,  2.35it/s]\n",
      "100%|██████████| 261/261 [01:53<00:00,  2.30it/s]"
     ]
    },
    {
     "name": "stdout",
     "output_type": "stream",
     "text": [
      "[26] loss: 4.454\n",
      "\u001b[96m Now running validation...\n"
     ]
    },
    {
     "name": "stderr",
     "output_type": "stream",
     "text": [
      "\n",
      "100%|██████████| 30/30 [00:12<00:00,  2.35it/s]\n",
      "100%|██████████| 261/261 [01:53<00:00,  2.29it/s]"
     ]
    },
    {
     "name": "stdout",
     "output_type": "stream",
     "text": [
      "\u001b[96m Now running validation...\n"
     ]
    },
    {
     "name": "stderr",
     "output_type": "stream",
     "text": [
      "\n",
      "100%|██████████| 30/30 [00:12<00:00,  2.36it/s]\n",
      "100%|██████████| 261/261 [01:53<00:00,  2.30it/s]"
     ]
    },
    {
     "name": "stdout",
     "output_type": "stream",
     "text": [
      "\u001b[96m Now running validation...\n"
     ]
    },
    {
     "name": "stderr",
     "output_type": "stream",
     "text": [
      "\n",
      "100%|██████████| 30/30 [00:12<00:00,  2.36it/s]\n",
      "100%|██████████| 261/261 [01:53<00:00,  2.30it/s]"
     ]
    },
    {
     "name": "stdout",
     "output_type": "stream",
     "text": [
      "\u001b[96m Now running validation...\n"
     ]
    },
    {
     "name": "stderr",
     "output_type": "stream",
     "text": [
      "\n",
      "100%|██████████| 30/30 [00:12<00:00,  2.36it/s]\n",
      "100%|██████████| 261/261 [01:53<00:00,  2.29it/s]"
     ]
    },
    {
     "name": "stdout",
     "output_type": "stream",
     "text": [
      "\u001b[96m Now running validation...\n"
     ]
    },
    {
     "name": "stderr",
     "output_type": "stream",
     "text": [
      "\n",
      "100%|██████████| 30/30 [00:12<00:00,  2.36it/s]\n"
     ]
    },
    {
     "data": {
      "text/plain": [
       "2.4147740341722965"
      ]
     },
     "execution_count": 66,
     "metadata": {},
     "output_type": "execute_result"
    }
   ],
   "source": [
    "import optuna\n",
    "\n",
    "print_every = 5\n",
    "\n",
    "best_results = {'loss': float('inf'), 'model': None}\n",
    "\n",
    "def objective(trial, resume=False, num_epochs=1):\n",
    "    \n",
    "    contrastive_model = MultimodalModel(audio_dim=audio_dim, text_dim=text_dim)\n",
    "    if resume:\n",
    "        contrastive_model.load_state_dict(torch.load('contrastive_model.pt'))\n",
    "    contrastive_model.to(device)\n",
    "\n",
    "    # Define optimizer\n",
    "    lr = trial.suggest_loguniform('lr', 1e-5, 1e-1) if not resume else study.best_params['lr']\n",
    "    optimizer = optim.Adam(contrastive_model.parameters(), lr=lr)\n",
    "\n",
    "    # Define loss function\n",
    "    margin = trial.suggest_uniform('margin', 0.1, 1.0) if not resume else study.best_params['margin']\n",
    "    criterion = TripletMarginLoss(margin=margin)\n",
    "\n",
    "    # Training loop\n",
    "    for epoch in range(num_epochs):\n",
    "        contrastive_model.train()\n",
    "        running_loss = 0.0\n",
    "        for i, data in tqdm(enumerate(data_loaders['train']), total=len(data_loaders['train'])):\n",
    "            (anchor_audio, anchor_text), anchor_label, (positive_audio, positive_text), (negative_audio, negative_text) = data\n",
    "\n",
    "            # Move tensors to the right device\n",
    "            anchor_audio = anchor_audio.to(device)\n",
    "            anchor_text = anchor_text.to(device)\n",
    "            positive_audio = positive_audio.to(device)\n",
    "            positive_text = positive_text.to(device)\n",
    "            negative_audio = negative_audio.to(device)\n",
    "            negative_text = negative_text.to(device)\n",
    "\n",
    "            with torch.no_grad():\n",
    "                anchor_text = bert_model(anchor_text.squeeze(1))[0]\n",
    "                positive_text = bert_model(positive_text.squeeze(1))[0]\n",
    "                negative_text = bert_model(negative_text.squeeze(1))[0]\n",
    "\n",
    "            # Zero the parameter gradients\n",
    "            optimizer.zero_grad()\n",
    "\n",
    "            # Forward + backward + optimize\n",
    "            anchor_out = contrastive_model(anchor_audio, anchor_text)\n",
    "            positive_out = contrastive_model(positive_audio, positive_text)\n",
    "            negative_out = contrastive_model(negative_audio, negative_text)\n",
    "            loss = criterion(anchor_out, positive_out, negative_out)\n",
    "            loss.backward()\n",
    "            optimizer.step()\n",
    "\n",
    "            # Print statistics\n",
    "            running_loss += loss.item()\n",
    "        if epoch % print_every == 0:\n",
    "            print('[%d] loss: %.3f' % (epoch + 1, running_loss / print_every))\n",
    "            running_loss = 0.0\n",
    "\n",
    "        # Validation\n",
    "        print(teal, \"Now running validation...\")\n",
    "        contrastive_model.eval()\n",
    "        val_loss = 0.0\n",
    "        with torch.no_grad():\n",
    "            for i, data in tqdm(enumerate(data_loaders['dev']), total=len(data_loaders['dev'])):\n",
    "                (anchor_audio, anchor_text), anchor_label, (positive_audio, positive_text), (negative_audio, negative_text) = data\n",
    "\n",
    "                # Move tensors to the right device\n",
    "                anchor_audio = anchor_audio.to(device)\n",
    "                anchor_text = anchor_text.to(device)\n",
    "                positive_audio = positive_audio.to(device)\n",
    "                positive_text = positive_text.to(device)\n",
    "                negative_audio = negative_audio.to(device)\n",
    "                negative_text = negative_text.to(device)\n",
    "\n",
    "                with torch.no_grad():\n",
    "                    anchor_text = bert_model(anchor_text.squeeze(1))[0]\n",
    "                    positive_text = bert_model(positive_text.squeeze(1))[0]\n",
    "                    negative_text = bert_model(negative_text.squeeze(1))[0]\n",
    "\n",
    "                anchor_out = contrastive_model(anchor_audio, anchor_text)\n",
    "                positive_out = contrastive_model(positive_audio, positive_text)\n",
    "                negative_out = contrastive_model(negative_audio, negative_text)\n",
    "                loss = criterion(anchor_out, positive_out, negative_out)\n",
    "                val_loss += loss.item()\n",
    "\n",
    "        if val_loss < best_results['loss']:            \n",
    "            print(blue, \"New best validation loss achieved! \", val_loss) \n",
    "            print(blue, \"Best margin \", margin)\n",
    "            print(blue, \"Best lr \", lr)\n",
    "            best_results['loss'] = val_loss\n",
    "            best_results['model'] = contrastive_model.state_dict()\n",
    "            torch.save(best_results['model'], 'contrastive_model.pt')\n",
    "        if not resume and trial.should_prune():\n",
    "            raise optuna.TrialPruned()\n",
    "            \n",
    "    return best_results['loss']\n",
    "\n",
    "study = optuna.create_study(direction='minimize', pruner=optuna.pruners.MedianPruner())\n",
    "study.optimize(objective, n_trials=30)\n",
    "\n",
    "best_pretrained_params = study.best_params\n",
    "with open('best_pretrained_params.pickle', 'wb') as handle:\n",
    "    pickle.dump(best_pretrained_params, handle, protocol=pickle.HIGHEST_PROTOCOL)\n",
    "\n",
    "objective(None, resume=True, num_epochs=30)"
   ]
  },
  {
   "cell_type": "code",
   "execution_count": 68,
   "metadata": {
    "id": "oEzUL2h2tCRM"
   },
   "outputs": [
    {
     "name": "stderr",
     "output_type": "stream",
     "text": [
      "100%|██████████| 68/68 [00:29<00:00,  2.32it/s]"
     ]
    },
    {
     "name": "stdout",
     "output_type": "stream",
     "text": [
      "Test Loss: 0.094\n"
     ]
    },
    {
     "name": "stderr",
     "output_type": "stream",
     "text": [
      "\n"
     ]
    }
   ],
   "source": [
    "#@title Evaluate Contrastive Model on test set\n",
    "\n",
    "def evaluate_model(model, criterion, data_loader):\n",
    "    model.eval()\n",
    "    test_loss = 0.0\n",
    "    with torch.no_grad():\n",
    "        for i, data in tqdm(enumerate(data_loader), total=len(data_loader)):\n",
    "            (anchor_audio, anchor_text), anchor_label, (positive_audio, positive_text), (negative_audio, negative_text) = data\n",
    "\n",
    "            anchor_audio = anchor_audio.to(device)\n",
    "            anchor_text = anchor_text.to(device)\n",
    "            positive_audio = positive_audio.to(device)\n",
    "            positive_text = positive_text.to(device)\n",
    "            negative_audio = negative_audio.to(device)\n",
    "            negative_text = negative_text.to(device)\n",
    "            \n",
    "            with torch.no_grad():\n",
    "                anchor_text = bert_model(anchor_text.squeeze(1))[0]\n",
    "                positive_text = bert_model(positive_text.squeeze(1))[0]\n",
    "                negative_text = bert_model(negative_text.squeeze(1))[0]\n",
    "\n",
    "            anchor_out = model(anchor_audio, anchor_text)\n",
    "            positive_out = model(positive_audio, positive_text)\n",
    "            negative_out = model(negative_audio, negative_text)\n",
    "            loss = criterion(anchor_out, positive_out, negative_out)\n",
    "            test_loss += loss.item()\n",
    "\n",
    "    return test_loss / len(data_loader)\n",
    "\n",
    "# Assuming the best model parameters are found and loaded into the model\n",
    "contrastive_model = MultimodalModel(audio_dim=audio_dim, text_dim=text_dim).to(device)\n",
    "contrastive_model.load_state_dict(torch.load('contrastive_model.pt'))\n",
    "\n",
    "# Create the loss function\n",
    "with open('best_pretrained_params.pickle', 'rb') as handle:\n",
    "    best_pretrained_params = pickle.load(handle)\n",
    "margin = best_pretrained_params['margin']\n",
    "criterion = TripletMarginLoss(margin=margin)\n",
    "\n",
    "# Evaluate the model\n",
    "test_loss = evaluate_model(contrastive_model, criterion, data_loaders['test'])\n",
    "print('Test Loss: %.3f' % test_loss)"
   ]
  },
  {
   "cell_type": "code",
   "execution_count": 70,
   "metadata": {},
   "outputs": [
    {
     "data": {
      "text/plain": [
       "{'lr': 0.00012244720983334244, 'margin': 0.10518294052119545}"
      ]
     },
     "execution_count": 70,
     "metadata": {},
     "output_type": "execute_result"
    }
   ],
   "source": [
    "best_pretrained_params"
   ]
  },
  {
   "cell_type": "markdown",
   "metadata": {
    "id": "ZzaiJfhKyNVz"
   },
   "source": [
    "## Downstream Task Training\n",
    "\n",
    "Fine-tuning the contrastive pre-trained model to predict emotion and sentiment"
   ]
  },
  {
   "cell_type": "code",
   "execution_count": 71,
   "metadata": {
    "id": "nu4XHppLyQ30"
   },
   "outputs": [],
   "source": [
    "class DownstreamTaskDataset(Dataset):\n",
    "    def __init__(self, dataset):\n",
    "        self.dataset = dataset\n",
    "\n",
    "    def __len__(self):\n",
    "        return len(self.dataset)\n",
    "\n",
    "    def __getitem__(self, idx):\n",
    "        audio = self.dataset[idx]['audio'].unsqueeze(0)\n",
    "        text = self.dataset[idx]['text']['input_ids'].squeeze(-1)\n",
    "        sentiment = self.dataset[idx]['sentiment']\n",
    "        emotion = self.dataset[idx]['emotion']\n",
    "\n",
    "        return (audio, text), sentiment, emotion"
   ]
  },
  {
   "cell_type": "code",
   "execution_count": 77,
   "metadata": {
    "id": "2uJTs5eC0c54"
   },
   "outputs": [],
   "source": [
    "batch_size = 8\n",
    "\n",
    "train_dataset = DownstreamTaskDataset(data_dicts['train'])\n",
    "dev_dataset = DownstreamTaskDataset(data_dicts['dev'])\n",
    "test_dataset = DownstreamTaskDataset(data_dicts['test'])\n",
    "\n",
    "train_dataset = DownstreamTaskDataset(data_lists['train'])\n",
    "dev_dataset = DownstreamTaskDataset(data_lists['dev'])\n",
    "test_dataset = DownstreamTaskDataset(data_lists['test'])\n",
    "\n",
    "data_loaders = {\n",
    "    'train': DataLoader(train_dataset, batch_size=batch_size, shuffle=True, num_workers=num_cores, pin_memory=True),\n",
    "    'dev': DataLoader(dev_dataset, batch_size=batch_size, shuffle=False, num_workers=num_cores, pin_memory=True),\n",
    "    'test': DataLoader(test_dataset, batch_size=batch_size, shuffle=False, num_workers=num_cores, pin_memory=True)\n",
    "}"
   ]
  },
  {
   "cell_type": "code",
   "execution_count": 74,
   "metadata": {
    "id": "nnWSOFkF06fy"
   },
   "outputs": [],
   "source": [
    "class DownstreamModel(nn.Module):\n",
    "    def __init__(self, contrastive_model, num_sentiment_classes, num_emotion_classes, dropout_rate):\n",
    "        super(DownstreamModel, self).__init__()\n",
    "        self.contrastive_model = contrastive_model\n",
    "        self.dropout = nn.Dropout(dropout_rate)\n",
    "        self.sentiment_fc = nn.Linear(256, num_sentiment_classes)\n",
    "        self.emotion_fc = nn.Linear(256, num_emotion_classes)\n",
    "\n",
    "    def forward(self, audio, text):\n",
    "        x = self.contrastive_model(audio, text)\n",
    "        x = self.dropout(x)\n",
    "        sentiment_out = self.sentiment_fc(x)\n",
    "        emotion_out = self.emotion_fc(x)\n",
    "        return sentiment_out, emotion_out"
   ]
  },
  {
   "cell_type": "code",
   "execution_count": 81,
   "metadata": {
    "id": "HIkxcJ-B2h4R"
   },
   "outputs": [
    {
     "name": "stderr",
     "output_type": "stream",
     "text": [
      "\u001b[32m[I 2023-05-03 23:24:03,926]\u001b[0m A new study created in memory with name: no-name-d1443e58-1b21-4117-948b-b9cad8be4349\u001b[0m\n"
     ]
    },
    {
     "name": "stdout",
     "output_type": "stream",
     "text": [
      "\u001b[97m Training Epoch ( 0 / 1 )\n"
     ]
    },
    {
     "name": "stderr",
     "output_type": "stream",
     "text": [
      "/opt/conda/lib/python3.7/site-packages/ipykernel_launcher.py:8: FutureWarning: suggest_uniform has been deprecated in v3.0.0. This feature will be removed in v6.0.0. See https://github.com/optuna/optuna/releases/tag/v3.0.0. Use :func:`~optuna.trial.Trial.suggest_float` instead.\n",
      "  \n",
      "/opt/conda/lib/python3.7/site-packages/ipykernel_launcher.py:9: FutureWarning: suggest_loguniform has been deprecated in v3.0.0. This feature will be removed in v6.0.0. See https://github.com/optuna/optuna/releases/tag/v3.0.0. Use :func:`~optuna.trial.Trial.suggest_float` instead.\n",
      "  if __name__ == \"__main__\":\n",
      "/opt/conda/lib/python3.7/site-packages/ipykernel_launcher.py:10: FutureWarning: suggest_uniform has been deprecated in v3.0.0. This feature will be removed in v6.0.0. See https://github.com/optuna/optuna/releases/tag/v3.0.0. Use :func:`~optuna.trial.Trial.suggest_float` instead.\n",
      "  # Remove the CWD from sys.path while we load stuff.\n",
      "/opt/conda/lib/python3.7/site-packages/ipykernel_launcher.py:11: FutureWarning: suggest_uniform has been deprecated in v3.0.0. This feature will be removed in v6.0.0. See https://github.com/optuna/optuna/releases/tag/v3.0.0. Use :func:`~optuna.trial.Trial.suggest_float` instead.\n",
      "  # This is added back by InteractiveShellApp.init_path()\n",
      "1042it [00:42, 24.43it/s]"
     ]
    },
    {
     "name": "stdout",
     "output_type": "stream",
     "text": [
      "[1] loss: 173.448\n",
      "\u001b[96m Now running validation...\n"
     ]
    },
    {
     "name": "stderr",
     "output_type": "stream",
     "text": [
      "\n",
      "117it [00:04, 25.42it/s]\n",
      "\u001b[32m[I 2023-05-03 23:24:51,848]\u001b[0m Trial 0 finished with value: 97.71770045161247 and parameters: {'dropout_rate': 0.4345784748620932, 'lr': 0.0015673186832865817, 'sentiment_loss_weight': 0.2327835276593543, 'emotion_loss_weight': 0.4597148118683565}. Best is trial 0 with value: 97.71770045161247.\u001b[0m\n"
     ]
    },
    {
     "name": "stdout",
     "output_type": "stream",
     "text": [
      "\u001b[94m New best validation loss achieved!  97.71770045161247\n",
      "\u001b[94m Best dropout rate:  0.4345784748620932\n",
      "\u001b[94m Best learning rate:  0.0015673186832865817\n",
      "\u001b[94m Best sentiment_loss weight:  0.2327835276593543\n",
      "\u001b[94m Best emotion_loss weight:  0.4597148118683565\n",
      "\u001b[97m Training Epoch ( 0 / 1 )\n"
     ]
    },
    {
     "name": "stderr",
     "output_type": "stream",
     "text": [
      "1042it [00:42, 24.32it/s]"
     ]
    },
    {
     "name": "stdout",
     "output_type": "stream",
     "text": [
      "[1] loss: 277.145\n",
      "\u001b[96m Now running validation...\n"
     ]
    },
    {
     "name": "stderr",
     "output_type": "stream",
     "text": [
      "\n",
      "117it [00:04, 25.43it/s]\n",
      "\u001b[32m[I 2023-05-03 23:25:39,946]\u001b[0m Trial 1 finished with value: 147.8519043326378 and parameters: {'dropout_rate': 0.4064328138548313, 'lr': 6.072903838872234e-05, 'sentiment_loss_weight': 0.6682867833465094, 'emotion_loss_weight': 0.38027446549760946}. Best is trial 0 with value: 97.71770045161247.\u001b[0m\n"
     ]
    },
    {
     "name": "stdout",
     "output_type": "stream",
     "text": [
      "\u001b[97m Training Epoch ( 0 / 1 )\n"
     ]
    },
    {
     "name": "stderr",
     "output_type": "stream",
     "text": [
      "1042it [00:42, 24.32it/s]"
     ]
    },
    {
     "name": "stdout",
     "output_type": "stream",
     "text": [
      "[1] loss: 292.074\n",
      "\u001b[96m Now running validation...\n"
     ]
    },
    {
     "name": "stderr",
     "output_type": "stream",
     "text": [
      "\n",
      "117it [00:04, 25.32it/s]\n",
      "\u001b[32m[I 2023-05-03 23:26:28,064]\u001b[0m Trial 2 finished with value: 162.43189615011215 and parameters: {'dropout_rate': 0.368342140401972, 'lr': 0.0005069955778409426, 'sentiment_loss_weight': 0.3491252891605081, 'emotion_loss_weight': 0.7953540955696218}. Best is trial 0 with value: 97.71770045161247.\u001b[0m\n"
     ]
    },
    {
     "name": "stdout",
     "output_type": "stream",
     "text": [
      "\u001b[97m Training Epoch ( 0 / 1 )\n"
     ]
    },
    {
     "name": "stderr",
     "output_type": "stream",
     "text": [
      "1042it [00:42, 24.41it/s]"
     ]
    },
    {
     "name": "stdout",
     "output_type": "stream",
     "text": [
      "[1] loss: 418.134\n",
      "\u001b[96m Now running validation...\n"
     ]
    },
    {
     "name": "stderr",
     "output_type": "stream",
     "text": [
      "\n",
      "117it [00:04, 25.13it/s]\n",
      "\u001b[32m[I 2023-05-03 23:27:16,068]\u001b[0m Trial 3 finished with value: 242.04489320516586 and parameters: {'dropout_rate': 0.09089199445474949, 'lr': 0.02205111777437406, 'sentiment_loss_weight': 0.6619905934347243, 'emotion_loss_weight': 0.9545194356059847}. Best is trial 0 with value: 97.71770045161247.\u001b[0m\n"
     ]
    },
    {
     "name": "stdout",
     "output_type": "stream",
     "text": [
      "\u001b[97m Training Epoch ( 0 / 1 )\n"
     ]
    },
    {
     "name": "stderr",
     "output_type": "stream",
     "text": [
      "1042it [00:42, 24.42it/s]"
     ]
    },
    {
     "name": "stdout",
     "output_type": "stream",
     "text": [
      "[1] loss: 303.368\n",
      "\u001b[96m Now running validation...\n"
     ]
    },
    {
     "name": "stderr",
     "output_type": "stream",
     "text": [
      "\n",
      "117it [00:04, 25.01it/s]\n",
      "\u001b[32m[I 2023-05-03 23:28:04,059]\u001b[0m Trial 4 finished with value: 179.88661643862724 and parameters: {'dropout_rate': 0.42112626999329866, 'lr': 0.005644387058498843, 'sentiment_loss_weight': 0.1934009913980571, 'emotion_loss_weight': 0.9440488176365232}. Best is trial 0 with value: 97.71770045161247.\u001b[0m\n"
     ]
    },
    {
     "name": "stdout",
     "output_type": "stream",
     "text": [
      "\u001b[97m Training Epoch ( 0 / 1 )\n"
     ]
    },
    {
     "name": "stderr",
     "output_type": "stream",
     "text": [
      "1042it [00:42, 24.33it/s]"
     ]
    },
    {
     "name": "stdout",
     "output_type": "stream",
     "text": [
      "[1] loss: 81.593\n",
      "\u001b[96m Now running validation...\n"
     ]
    },
    {
     "name": "stderr",
     "output_type": "stream",
     "text": [
      "\n",
      "117it [00:04, 25.25it/s]\n",
      "\u001b[32m[I 2023-05-03 23:28:52,168]\u001b[0m Trial 5 finished with value: 43.974554255604744 and parameters: {'dropout_rate': 0.23602947983414363, 'lr': 0.00011454843186891373, 'sentiment_loss_weight': 0.13798804676590862, 'emotion_loss_weight': 0.14469326168962052}. Best is trial 5 with value: 43.974554255604744.\u001b[0m\n"
     ]
    },
    {
     "name": "stdout",
     "output_type": "stream",
     "text": [
      "\u001b[94m New best validation loss achieved!  43.974554255604744\n",
      "\u001b[94m Best dropout rate:  0.23602947983414363\n",
      "\u001b[94m Best learning rate:  0.00011454843186891373\n",
      "\u001b[94m Best sentiment_loss weight:  0.13798804676590862\n",
      "\u001b[94m Best emotion_loss weight:  0.14469326168962052\n",
      "\u001b[97m Training Epoch ( 0 / 1 )\n"
     ]
    },
    {
     "name": "stderr",
     "output_type": "stream",
     "text": [
      "1042it [00:42, 24.25it/s]"
     ]
    },
    {
     "name": "stdout",
     "output_type": "stream",
     "text": [
      "[1] loss: 151.315\n",
      "\u001b[96m Now running validation...\n"
     ]
    },
    {
     "name": "stderr",
     "output_type": "stream",
     "text": [
      "\n",
      "117it [00:04, 25.27it/s]\n",
      "\u001b[32m[I 2023-05-03 23:29:40,405]\u001b[0m Trial 6 finished with value: 84.16905066370964 and parameters: {'dropout_rate': 0.3010960687582177, 'lr': 0.04946621039096672, 'sentiment_loss_weight': 0.20902676516529356, 'emotion_loss_weight': 0.33052372284252307}. Best is trial 5 with value: 43.974554255604744.\u001b[0m\n"
     ]
    },
    {
     "name": "stdout",
     "output_type": "stream",
     "text": [
      "\u001b[97m Training Epoch ( 0 / 1 )\n"
     ]
    },
    {
     "name": "stderr",
     "output_type": "stream",
     "text": [
      "1042it [00:42, 24.28it/s]"
     ]
    },
    {
     "name": "stdout",
     "output_type": "stream",
     "text": [
      "[1] loss: 300.162\n",
      "\u001b[96m Now running validation...\n"
     ]
    },
    {
     "name": "stderr",
     "output_type": "stream",
     "text": [
      "\n",
      "117it [00:04, 25.36it/s]\n",
      "\u001b[32m[I 2023-05-03 23:30:28,601]\u001b[0m Trial 7 finished with value: 166.68814325332642 and parameters: {'dropout_rate': 0.0494541094149159, 'lr': 2.3260610513516607e-05, 'sentiment_loss_weight': 0.4892759348084169, 'emotion_loss_weight': 0.47322025169231285}. Best is trial 5 with value: 43.974554255604744.\u001b[0m\n"
     ]
    },
    {
     "name": "stdout",
     "output_type": "stream",
     "text": [
      "\u001b[97m Training Epoch ( 0 / 1 )\n"
     ]
    },
    {
     "name": "stderr",
     "output_type": "stream",
     "text": [
      "1042it [00:42, 24.34it/s]"
     ]
    },
    {
     "name": "stdout",
     "output_type": "stream",
     "text": [
      "[1] loss: 276.214\n",
      "\u001b[96m Now running validation...\n"
     ]
    },
    {
     "name": "stderr",
     "output_type": "stream",
     "text": [
      "\n",
      "117it [00:04, 25.08it/s]\n",
      "\u001b[32m[I 2023-05-03 23:31:16,739]\u001b[0m Trial 8 finished with value: 153.92332077026367 and parameters: {'dropout_rate': 0.4550588512640028, 'lr': 0.016764951281646217, 'sentiment_loss_weight': 0.7436792750102504, 'emotion_loss_weight': 0.41780349110813664}. Best is trial 5 with value: 43.974554255604744.\u001b[0m\n"
     ]
    },
    {
     "name": "stdout",
     "output_type": "stream",
     "text": [
      "\u001b[97m Training Epoch ( 0 / 1 )\n"
     ]
    },
    {
     "name": "stderr",
     "output_type": "stream",
     "text": [
      "1042it [00:42, 24.37it/s]"
     ]
    },
    {
     "name": "stdout",
     "output_type": "stream",
     "text": [
      "[1] loss: 236.742\n",
      "\u001b[96m Now running validation...\n"
     ]
    },
    {
     "name": "stderr",
     "output_type": "stream",
     "text": [
      "\n",
      "117it [00:04, 25.11it/s]\n",
      "\u001b[32m[I 2023-05-03 23:32:04,814]\u001b[0m Trial 9 finished with value: 141.92707550525665 and parameters: {'dropout_rate': 0.1796069950925191, 'lr': 0.009040267360782596, 'sentiment_loss_weight': 0.1497959185501815, 'emotion_loss_weight': 0.7121932267019369}. Best is trial 5 with value: 43.974554255604744.\u001b[0m\n"
     ]
    },
    {
     "name": "stdout",
     "output_type": "stream",
     "text": [
      "\u001b[97m Training Epoch ( 0 / 1 )\n"
     ]
    },
    {
     "name": "stderr",
     "output_type": "stream",
     "text": [
      "1042it [00:42, 24.32it/s]"
     ]
    },
    {
     "name": "stdout",
     "output_type": "stream",
     "text": [
      "[1] loss: 238.114\n",
      "\u001b[96m Now running validation...\n"
     ]
    },
    {
     "name": "stderr",
     "output_type": "stream",
     "text": [
      "\n",
      "117it [00:04, 25.30it/s]\n",
      "\u001b[32m[I 2023-05-03 23:32:52,933]\u001b[0m Trial 10 finished with value: 132.3228070139885 and parameters: {'dropout_rate': 0.23208412333380524, 'lr': 0.00015854702095970105, 'sentiment_loss_weight': 0.8532386695577823, 'emotion_loss_weight': 0.15177638050021677}. Best is trial 5 with value: 43.974554255604744.\u001b[0m\n"
     ]
    },
    {
     "name": "stdout",
     "output_type": "stream",
     "text": [
      "\u001b[97m Training Epoch ( 0 / 1 )\n"
     ]
    },
    {
     "name": "stderr",
     "output_type": "stream",
     "text": [
      "1042it [00:42, 24.29it/s]"
     ]
    },
    {
     "name": "stdout",
     "output_type": "stream",
     "text": [
      "[1] loss: 82.990\n",
      "\u001b[96m Now running validation...\n"
     ]
    },
    {
     "name": "stderr",
     "output_type": "stream",
     "text": [
      "\n",
      "117it [00:04, 25.31it/s]\n",
      "\u001b[32m[I 2023-05-03 23:33:41,134]\u001b[0m Trial 11 finished with value: 48.230384796857834 and parameters: {'dropout_rate': 0.2936583429754166, 'lr': 0.07953210595986782, 'sentiment_loss_weight': 0.13044483188080552, 'emotion_loss_weight': 0.15487049334180117}. Best is trial 5 with value: 43.974554255604744.\u001b[0m\n"
     ]
    },
    {
     "name": "stdout",
     "output_type": "stream",
     "text": [
      "\u001b[97m Training Epoch ( 0 / 1 )\n"
     ]
    },
    {
     "name": "stderr",
     "output_type": "stream",
     "text": [
      "1042it [00:42, 24.24it/s]"
     ]
    },
    {
     "name": "stdout",
     "output_type": "stream",
     "text": [
      "[1] loss: 60.845\n",
      "\u001b[96m Now running validation...\n"
     ]
    },
    {
     "name": "stderr",
     "output_type": "stream",
     "text": [
      "\n",
      "117it [00:04, 25.21it/s]\n",
      "\u001b[32m[I 2023-05-03 23:34:29,427]\u001b[0m Trial 12 finished with value: 33.932302340865135 and parameters: {'dropout_rate': 0.29062262257242283, 'lr': 0.09813246249328197, 'sentiment_loss_weight': 0.10547342261631548, 'emotion_loss_weight': 0.10061215216700725}. Best is trial 12 with value: 33.932302340865135.\u001b[0m\n"
     ]
    },
    {
     "name": "stdout",
     "output_type": "stream",
     "text": [
      "\u001b[94m New best validation loss achieved!  33.932302340865135\n",
      "\u001b[94m Best dropout rate:  0.29062262257242283\n",
      "\u001b[94m Best learning rate:  0.09813246249328197\n",
      "\u001b[94m Best sentiment_loss weight:  0.10547342261631548\n",
      "\u001b[94m Best emotion_loss weight:  0.10061215216700725\n",
      "\u001b[97m Training Epoch ( 0 / 1 )\n"
     ]
    },
    {
     "name": "stderr",
     "output_type": "stream",
     "text": [
      "1042it [00:42, 24.32it/s]"
     ]
    },
    {
     "name": "stdout",
     "output_type": "stream",
     "text": [
      "[1] loss: 112.254\n",
      "\u001b[96m Now running validation...\n"
     ]
    },
    {
     "name": "stderr",
     "output_type": "stream",
     "text": [
      "\n",
      "117it [00:04, 25.18it/s]\n",
      "\u001b[32m[I 2023-05-03 23:35:17,577]\u001b[0m Trial 13 finished with value: 63.61585223674774 and parameters: {'dropout_rate': 0.1837193090280719, 'lr': 0.0018983238114136697, 'sentiment_loss_weight': 0.3638846818638185, 'emotion_loss_weight': 0.10931289004896037}. Best is trial 12 with value: 33.932302340865135.\u001b[0m\n"
     ]
    },
    {
     "name": "stdout",
     "output_type": "stream",
     "text": [
      "\u001b[97m Training Epoch ( 0 / 1 )\n"
     ]
    },
    {
     "name": "stderr",
     "output_type": "stream",
     "text": [
      "1042it [00:42, 24.38it/s]"
     ]
    },
    {
     "name": "stdout",
     "output_type": "stream",
     "text": [
      "[1] loss: 162.054\n",
      "\u001b[96m Now running validation...\n"
     ]
    },
    {
     "name": "stderr",
     "output_type": "stream",
     "text": [
      "\n",
      "117it [00:04, 24.91it/s]\n",
      "\u001b[32m[I 2023-05-03 23:36:05,671]\u001b[0m Trial 14 finished with value: 91.14076295495033 and parameters: {'dropout_rate': 0.33225354280174724, 'lr': 0.00034788435248199907, 'sentiment_loss_weight': 0.32664892162117615, 'emotion_loss_weight': 0.2726583994170382}. Best is trial 12 with value: 33.932302340865135.\u001b[0m\n"
     ]
    },
    {
     "name": "stdout",
     "output_type": "stream",
     "text": [
      "\u001b[97m Training Epoch ( 0 / 1 )\n"
     ]
    },
    {
     "name": "stderr",
     "output_type": "stream",
     "text": [
      "1042it [00:42, 24.32it/s]"
     ]
    },
    {
     "name": "stdout",
     "output_type": "stream",
     "text": [
      "[1] loss: 123.079\n",
      "\u001b[96m Now running validation...\n"
     ]
    },
    {
     "name": "stderr",
     "output_type": "stream",
     "text": [
      "\n",
      "117it [00:04, 25.19it/s]\n",
      "\u001b[32m[I 2023-05-03 23:36:53,833]\u001b[0m Trial 15 finished with value: 68.35231286287308 and parameters: {'dropout_rate': 0.24792227693553345, 'lr': 1.1025390128004478e-05, 'sentiment_loss_weight': 0.10861418197504225, 'emotion_loss_weight': 0.24319236062074528}. Best is trial 12 with value: 33.932302340865135.\u001b[0m\n"
     ]
    },
    {
     "name": "stdout",
     "output_type": "stream",
     "text": [
      "\u001b[97m Training Epoch ( 0 / 1 )\n"
     ]
    },
    {
     "name": "stderr",
     "output_type": "stream",
     "text": [
      "1042it [00:42, 24.28it/s]"
     ]
    },
    {
     "name": "stdout",
     "output_type": "stream",
     "text": [
      "[1] loss: 164.987\n",
      "\u001b[96m Now running validation...\n"
     ]
    },
    {
     "name": "stderr",
     "output_type": "stream",
     "text": [
      "\n",
      "117it [00:04, 25.31it/s]\n",
      "\u001b[32m[I 2023-05-03 23:37:42,037]\u001b[0m Trial 16 finished with value: 92.40009632706642 and parameters: {'dropout_rate': 0.36022590698678514, 'lr': 0.0034890735895791386, 'sentiment_loss_weight': 0.4531097111020756, 'emotion_loss_weight': 0.23539184029919966}. Best is trial 12 with value: 33.932302340865135.\u001b[0m\n"
     ]
    },
    {
     "name": "stdout",
     "output_type": "stream",
     "text": [
      "\u001b[97m Training Epoch ( 0 / 1 )\n"
     ]
    },
    {
     "name": "stderr",
     "output_type": "stream",
     "text": [
      "1042it [00:42, 24.29it/s]"
     ]
    },
    {
     "name": "stdout",
     "output_type": "stream",
     "text": [
      "[1] loss: 90.251\n",
      "\u001b[96m Now running validation...\n"
     ]
    },
    {
     "name": "stderr",
     "output_type": "stream",
     "text": [
      "\n",
      "117it [00:04, 25.36it/s]\n",
      "\u001b[32m[I 2023-05-03 23:38:30,222]\u001b[0m Trial 17 finished with value: 50.89923179149628 and parameters: {'dropout_rate': 0.49569667451988375, 'lr': 0.0008428755635927306, 'sentiment_loss_weight': 0.26986777906506587, 'emotion_loss_weight': 0.10709472988398488}. Best is trial 12 with value: 33.932302340865135.\u001b[0m\n"
     ]
    },
    {
     "name": "stdout",
     "output_type": "stream",
     "text": [
      "\u001b[97m Training Epoch ( 0 / 1 )\n"
     ]
    },
    {
     "name": "stderr",
     "output_type": "stream",
     "text": [
      "1042it [00:42, 24.34it/s]"
     ]
    },
    {
     "name": "stdout",
     "output_type": "stream",
     "text": [
      "[1] loss: 219.572\n",
      "\u001b[96m Now running validation...\n"
     ]
    },
    {
     "name": "stderr",
     "output_type": "stream",
     "text": [
      "\n",
      "117it [00:04, 25.07it/s]\n",
      "\u001b[32m[I 2023-05-03 23:39:18,349]\u001b[0m Trial 18 finished with value: 119.23189735412598 and parameters: {'dropout_rate': 0.15068104334642585, 'lr': 0.00014130223154053528, 'sentiment_loss_weight': 0.11626359043839898, 'emotion_loss_weight': 0.5567145307470299}. Best is trial 12 with value: 33.932302340865135.\u001b[0m\n"
     ]
    },
    {
     "name": "stdout",
     "output_type": "stream",
     "text": [
      "\u001b[97m Training Epoch ( 0 / 1 )\n"
     ]
    },
    {
     "name": "stderr",
     "output_type": "stream",
     "text": [
      "1042it [00:42, 24.39it/s]"
     ]
    },
    {
     "name": "stdout",
     "output_type": "stream",
     "text": [
      "[1] loss: 130.619\n",
      "\u001b[96m Now running validation...\n"
     ]
    },
    {
     "name": "stderr",
     "output_type": "stream",
     "text": [
      "\n",
      "117it [00:04, 24.89it/s]\n",
      "\u001b[32m[I 2023-05-03 23:40:06,453]\u001b[0m Trial 19 finished with value: 77.18584215641022 and parameters: {'dropout_rate': 0.27941710652766316, 'lr': 0.07744465258541744, 'sentiment_loss_weight': 0.26343809007943353, 'emotion_loss_weight': 0.20627498429302066}. Best is trial 12 with value: 33.932302340865135.\u001b[0m\n"
     ]
    },
    {
     "name": "stdout",
     "output_type": "stream",
     "text": [
      "\u001b[97m Training Epoch ( 0 / 1 )\n"
     ]
    },
    {
     "name": "stderr",
     "output_type": "stream",
     "text": [
      "1042it [00:42, 24.34it/s]"
     ]
    },
    {
     "name": "stdout",
     "output_type": "stream",
     "text": [
      "[1] loss: 186.536\n",
      "\u001b[96m Now running validation...\n"
     ]
    },
    {
     "name": "stderr",
     "output_type": "stream",
     "text": [
      "\n",
      "117it [00:04, 25.31it/s]\n",
      "\u001b[32m[I 2023-05-03 23:40:54,558]\u001b[0m Trial 20 finished with value: 106.60580888390541 and parameters: {'dropout_rate': 0.22814877845071085, 'lr': 0.0032112248799958205, 'sentiment_loss_weight': 0.4210932892685653, 'emotion_loss_weight': 0.3177616779703698}. Best is trial 12 with value: 33.932302340865135.\u001b[0m\n"
     ]
    },
    {
     "name": "stdout",
     "output_type": "stream",
     "text": [
      "\u001b[97m Training Epoch ( 0 / 1 )\n"
     ]
    },
    {
     "name": "stderr",
     "output_type": "stream",
     "text": [
      "1042it [00:42, 24.24it/s]"
     ]
    },
    {
     "name": "stdout",
     "output_type": "stream",
     "text": [
      "[1] loss: 85.145\n",
      "\u001b[96m Now running validation...\n"
     ]
    },
    {
     "name": "stderr",
     "output_type": "stream",
     "text": [
      "\n",
      "117it [00:04, 25.26it/s]\n",
      "\u001b[32m[I 2023-05-03 23:41:42,829]\u001b[0m Trial 21 finished with value: 47.57659761607647 and parameters: {'dropout_rate': 0.30451996447364366, 'lr': 0.08972971791616034, 'sentiment_loss_weight': 0.10229834075356073, 'emotion_loss_weight': 0.1775257964579675}. Best is trial 12 with value: 33.932302340865135.\u001b[0m\n"
     ]
    },
    {
     "name": "stdout",
     "output_type": "stream",
     "text": [
      "\u001b[97m Training Epoch ( 0 / 1 )\n"
     ]
    },
    {
     "name": "stderr",
     "output_type": "stream",
     "text": [
      "1042it [00:42, 24.25it/s]"
     ]
    },
    {
     "name": "stdout",
     "output_type": "stream",
     "text": [
      "[1] loss: 103.373\n",
      "\u001b[96m Now running validation...\n"
     ]
    },
    {
     "name": "stderr",
     "output_type": "stream",
     "text": [
      "\n",
      "117it [00:04, 25.31it/s]\n",
      "\u001b[32m[I 2023-05-03 23:42:31,081]\u001b[0m Trial 22 finished with value: 61.14975595474243 and parameters: {'dropout_rate': 0.3331714902233316, 'lr': 0.032246619750433275, 'sentiment_loss_weight': 0.19504481423528428, 'emotion_loss_weight': 0.19059645330284963}. Best is trial 12 with value: 33.932302340865135.\u001b[0m\n"
     ]
    },
    {
     "name": "stdout",
     "output_type": "stream",
     "text": [
      "\u001b[97m Training Epoch ( 0 / 1 )\n"
     ]
    },
    {
     "name": "stderr",
     "output_type": "stream",
     "text": [
      "1042it [00:42, 24.35it/s]"
     ]
    },
    {
     "name": "stdout",
     "output_type": "stream",
     "text": [
      "[1] loss: 100.512\n",
      "\u001b[96m Now running validation...\n"
     ]
    },
    {
     "name": "stderr",
     "output_type": "stream",
     "text": [
      "\n",
      "117it [00:04, 25.10it/s]\n",
      "\u001b[32m[I 2023-05-03 23:43:19,215]\u001b[0m Trial 23 finished with value: 55.61920015513897 and parameters: {'dropout_rate': 0.24497159551837877, 'lr': 0.08473994193620131, 'sentiment_loss_weight': 0.27967059476864414, 'emotion_loss_weight': 0.10332778386460653}. Best is trial 12 with value: 33.932302340865135.\u001b[0m\n"
     ]
    },
    {
     "name": "stdout",
     "output_type": "stream",
     "text": [
      "\u001b[97m Training Epoch ( 0 / 1 )\n"
     ]
    },
    {
     "name": "stderr",
     "output_type": "stream",
     "text": [
      "1042it [00:42, 24.43it/s]"
     ]
    },
    {
     "name": "stdout",
     "output_type": "stream",
     "text": [
      "[1] loss: 103.421\n",
      "\u001b[96m Now running validation...\n"
     ]
    },
    {
     "name": "stderr",
     "output_type": "stream",
     "text": [
      "\n",
      "117it [00:04, 25.06it/s]\n",
      "\u001b[32m[I 2023-05-03 23:44:07,238]\u001b[0m Trial 24 finished with value: 59.483653634786606 and parameters: {'dropout_rate': 0.2888237512312023, 'lr': 0.014007782711519519, 'sentiment_loss_weight': 0.10791125554832669, 'emotion_loss_weight': 0.26253206972242316}. Best is trial 12 with value: 33.932302340865135.\u001b[0m\n"
     ]
    },
    {
     "name": "stdout",
     "output_type": "stream",
     "text": [
      "\u001b[97m Training Epoch ( 0 / 1 )\n"
     ]
    },
    {
     "name": "stderr",
     "output_type": "stream",
     "text": [
      "1042it [00:42, 24.31it/s]"
     ]
    },
    {
     "name": "stdout",
     "output_type": "stream",
     "text": [
      "[1] loss: 103.189\n",
      "\u001b[96m Now running validation...\n"
     ]
    },
    {
     "name": "stderr",
     "output_type": "stream",
     "text": [
      "\n",
      "117it [00:04, 25.23it/s]\n",
      "\u001b[32m[I 2023-05-03 23:44:55,427]\u001b[0m Trial 25 finished with value: 58.6040795892477 and parameters: {'dropout_rate': 0.2129388310905517, 'lr': 0.03612640859963139, 'sentiment_loss_weight': 0.18940670711925545, 'emotion_loss_weight': 0.19708954382529686}. Best is trial 12 with value: 33.932302340865135.\u001b[0m\n"
     ]
    },
    {
     "name": "stdout",
     "output_type": "stream",
     "text": [
      "\u001b[97m Training Epoch ( 0 / 1 )\n"
     ]
    },
    {
     "name": "stderr",
     "output_type": "stream",
     "text": [
      "1042it [00:42, 24.25it/s]"
     ]
    },
    {
     "name": "stdout",
     "output_type": "stream",
     "text": [
      "[1] loss: 146.062\n",
      "\u001b[96m Now running validation...\n"
     ]
    },
    {
     "name": "stderr",
     "output_type": "stream",
     "text": [
      "\n",
      "117it [00:04, 25.31it/s]\n",
      "\u001b[32m[I 2023-05-03 23:45:43,706]\u001b[0m Trial 26 finished with value: 84.64255142211914 and parameters: {'dropout_rate': 0.2703106994763565, 'lr': 0.0104297916882738, 'sentiment_loss_weight': 0.2681941629421609, 'emotion_loss_weight': 0.3062650850469594}. Best is trial 12 with value: 33.932302340865135.\u001b[0m\n"
     ]
    },
    {
     "name": "stdout",
     "output_type": "stream",
     "text": [
      "\u001b[97m Training Epoch ( 0 / 1 )\n"
     ]
    },
    {
     "name": "stderr",
     "output_type": "stream",
     "text": [
      "1042it [00:42, 24.26it/s]"
     ]
    },
    {
     "name": "stdout",
     "output_type": "stream",
     "text": [
      "[1] loss: 91.163\n",
      "\u001b[96m Now running validation...\n"
     ]
    },
    {
     "name": "stderr",
     "output_type": "stream",
     "text": [
      "\n",
      "117it [00:04, 25.40it/s]\n",
      "\u001b[32m[I 2023-05-03 23:46:31,954]\u001b[0m Trial 27 finished with value: 53.06375455856323 and parameters: {'dropout_rate': 0.3256971451205631, 'lr': 0.029724215224112522, 'sentiment_loss_weight': 0.17577279527549888, 'emotion_loss_weight': 0.1701379038893054}. Best is trial 12 with value: 33.932302340865135.\u001b[0m\n"
     ]
    },
    {
     "name": "stdout",
     "output_type": "stream",
     "text": [
      "\u001b[97m Training Epoch ( 0 / 1 )\n"
     ]
    },
    {
     "name": "stderr",
     "output_type": "stream",
     "text": [
      "1042it [00:42, 24.33it/s]"
     ]
    },
    {
     "name": "stdout",
     "output_type": "stream",
     "text": [
      "[1] loss: 138.717\n",
      "\u001b[96m Now running validation...\n"
     ]
    },
    {
     "name": "stderr",
     "output_type": "stream",
     "text": [
      "\n",
      "117it [00:04, 25.16it/s]\n",
      "\u001b[32m[I 2023-05-03 23:47:20,136]\u001b[0m Trial 28 finished with value: 82.53198270499706 and parameters: {'dropout_rate': 0.37687815393466206, 'lr': 0.04740638047632942, 'sentiment_loss_weight': 0.105762889582092, 'emotion_loss_weight': 0.35474079561911276}. Best is trial 12 with value: 33.932302340865135.\u001b[0m\n"
     ]
    },
    {
     "name": "stdout",
     "output_type": "stream",
     "text": [
      "\u001b[97m Training Epoch ( 0 / 1 )\n"
     ]
    },
    {
     "name": "stderr",
     "output_type": "stream",
     "text": [
      "1042it [00:42, 24.45it/s]"
     ]
    },
    {
     "name": "stdout",
     "output_type": "stream",
     "text": [
      "[1] loss: 132.336\n",
      "\u001b[96m Now running validation...\n"
     ]
    },
    {
     "name": "stderr",
     "output_type": "stream",
     "text": [
      "\n",
      "117it [00:04, 25.10it/s]\n",
      "\u001b[32m[I 2023-05-03 23:48:08,145]\u001b[0m Trial 29 finished with value: 75.5148173570633 and parameters: {'dropout_rate': 0.2637768967423354, 'lr': 0.0013020349583721523, 'sentiment_loss_weight': 0.22626864046454997, 'emotion_loss_weight': 0.26645845561498704}. Best is trial 12 with value: 33.932302340865135.\u001b[0m\n"
     ]
    },
    {
     "name": "stdout",
     "output_type": "stream",
     "text": [
      "\u001b[97m Training Epoch ( 0 / 1 )\n"
     ]
    },
    {
     "name": "stderr",
     "output_type": "stream",
     "text": [
      "1042it [00:42, 24.34it/s]"
     ]
    },
    {
     "name": "stdout",
     "output_type": "stream",
     "text": [
      "[1] loss: 97.011\n",
      "\u001b[96m Now running validation...\n"
     ]
    },
    {
     "name": "stderr",
     "output_type": "stream",
     "text": [
      "\n",
      "117it [00:04, 25.35it/s]\n",
      "\u001b[32m[I 2023-05-03 23:48:56,227]\u001b[0m Trial 30 finished with value: 54.35757102072239 and parameters: {'dropout_rate': 0.30861573034625844, 'lr': 0.006128564910511342, 'sentiment_loss_weight': 0.32292358783896535, 'emotion_loss_weight': 0.10038142176820469}. Best is trial 12 with value: 33.932302340865135.\u001b[0m\n"
     ]
    },
    {
     "name": "stdout",
     "output_type": "stream",
     "text": [
      "\u001b[97m Training Epoch ( 0 / 1 )\n"
     ]
    },
    {
     "name": "stderr",
     "output_type": "stream",
     "text": [
      "1042it [00:42, 24.27it/s]"
     ]
    },
    {
     "name": "stdout",
     "output_type": "stream",
     "text": [
      "[1] loss: 93.857\n",
      "\u001b[96m Now running validation...\n"
     ]
    },
    {
     "name": "stderr",
     "output_type": "stream",
     "text": [
      "\n",
      "117it [00:04, 25.38it/s]\n",
      "\u001b[32m[I 2023-05-03 23:49:44,445]\u001b[0m Trial 31 finished with value: 53.0246504843235 and parameters: {'dropout_rate': 0.28930091206017783, 'lr': 0.09656919257391179, 'sentiment_loss_weight': 0.15506828038166212, 'emotion_loss_weight': 0.16598502551410163}. Best is trial 12 with value: 33.932302340865135.\u001b[0m\n"
     ]
    },
    {
     "name": "stdout",
     "output_type": "stream",
     "text": [
      "\u001b[97m Training Epoch ( 0 / 1 )\n"
     ]
    },
    {
     "name": "stderr",
     "output_type": "stream",
     "text": [
      "1042it [00:42, 24.29it/s]"
     ]
    },
    {
     "name": "stdout",
     "output_type": "stream",
     "text": [
      "[1] loss: 87.462\n",
      "\u001b[96m Now running validation...\n"
     ]
    },
    {
     "name": "stderr",
     "output_type": "stream",
     "text": [
      "\n",
      "117it [00:04, 25.40it/s]\n",
      "\u001b[32m[I 2023-05-03 23:50:32,597]\u001b[0m Trial 32 finished with value: 51.11315482854843 and parameters: {'dropout_rate': 0.3470229258870618, 'lr': 0.05497063620701336, 'sentiment_loss_weight': 0.1556563099881066, 'emotion_loss_weight': 0.157628798643037}. Best is trial 12 with value: 33.932302340865135.\u001b[0m\n"
     ]
    },
    {
     "name": "stdout",
     "output_type": "stream",
     "text": [
      "\u001b[97m Training Epoch ( 0 / 1 )\n"
     ]
    },
    {
     "name": "stderr",
     "output_type": "stream",
     "text": [
      "1042it [00:42, 24.35it/s]"
     ]
    },
    {
     "name": "stdout",
     "output_type": "stream",
     "text": [
      "[1] loss: 136.043\n",
      "\u001b[96m Now running validation...\n"
     ]
    },
    {
     "name": "stderr",
     "output_type": "stream",
     "text": [
      "\n",
      "117it [00:04, 25.16it/s]\n",
      "\u001b[32m[I 2023-05-03 23:51:20,724]\u001b[0m Trial 33 finished with value: 77.07363048195839 and parameters: {'dropout_rate': 0.38078695861474, 'lr': 0.09343062639074001, 'sentiment_loss_weight': 0.23662090624571883, 'emotion_loss_weight': 0.22686257653544578}. Best is trial 12 with value: 33.932302340865135.\u001b[0m\n"
     ]
    },
    {
     "name": "stdout",
     "output_type": "stream",
     "text": [
      "\u001b[97m Training Epoch ( 0 / 1 )\n"
     ]
    },
    {
     "name": "stderr",
     "output_type": "stream",
     "text": [
      "1042it [00:42, 24.41it/s]"
     ]
    },
    {
     "name": "stdout",
     "output_type": "stream",
     "text": [
      "[1] loss: 78.380\n",
      "\u001b[96m Now running validation...\n"
     ]
    },
    {
     "name": "stderr",
     "output_type": "stream",
     "text": [
      "\n",
      "117it [00:04, 25.13it/s]\n",
      "\u001b[32m[I 2023-05-03 23:52:08,740]\u001b[0m Trial 34 finished with value: 46.79411891847849 and parameters: {'dropout_rate': 0.29723985787253004, 'lr': 0.022149315892358034, 'sentiment_loss_weight': 0.14207006115190915, 'emotion_loss_weight': 0.14978902122335405}. Best is trial 12 with value: 33.932302340865135.\u001b[0m\n"
     ]
    },
    {
     "name": "stdout",
     "output_type": "stream",
     "text": [
      "\u001b[97m Training Epoch ( 0 / 1 )\n"
     ]
    },
    {
     "name": "stderr",
     "output_type": "stream",
     "text": [
      "1042it [00:42, 24.34it/s]"
     ]
    },
    {
     "name": "stdout",
     "output_type": "stream",
     "text": [
      "[1] loss: 140.370\n",
      "\u001b[96m Now running validation...\n"
     ]
    },
    {
     "name": "stderr",
     "output_type": "stream",
     "text": [
      "\n",
      "117it [00:04, 25.46it/s]\n",
      "\u001b[32m[I 2023-05-03 23:52:56,811]\u001b[0m Trial 35 finished with value: 82.92243403196335 and parameters: {'dropout_rate': 0.31628641983645367, 'lr': 0.024409470626350235, 'sentiment_loss_weight': 0.22300486989259355, 'emotion_loss_weight': 0.2908644741655681}. Best is trial 12 with value: 33.932302340865135.\u001b[0m\n"
     ]
    },
    {
     "name": "stdout",
     "output_type": "stream",
     "text": [
      "\u001b[97m Training Epoch ( 0 / 1 )\n"
     ]
    },
    {
     "name": "stderr",
     "output_type": "stream",
     "text": [
      "1042it [00:42, 24.28it/s]"
     ]
    },
    {
     "name": "stdout",
     "output_type": "stream",
     "text": [
      "[1] loss: 142.413\n",
      "\u001b[96m Now running validation...\n"
     ]
    },
    {
     "name": "stderr",
     "output_type": "stream",
     "text": [
      "\n",
      "117it [00:04, 25.32it/s]\n",
      "\u001b[32m[I 2023-05-03 23:53:45,027]\u001b[0m Trial 36 finished with value: 84.55157995223999 and parameters: {'dropout_rate': 0.3963836708462669, 'lr': 0.01982191542560809, 'sentiment_loss_weight': 0.10025391367245723, 'emotion_loss_weight': 0.3858296073419031}. Best is trial 12 with value: 33.932302340865135.\u001b[0m\n"
     ]
    },
    {
     "name": "stdout",
     "output_type": "stream",
     "text": [
      "\u001b[97m Training Epoch ( 0 / 1 )\n"
     ]
    },
    {
     "name": "stderr",
     "output_type": "stream",
     "text": [
      "1042it [00:42, 24.29it/s]"
     ]
    },
    {
     "name": "stdout",
     "output_type": "stream",
     "text": [
      "[1] loss: 102.179\n",
      "\u001b[96m Now running validation...\n"
     ]
    },
    {
     "name": "stderr",
     "output_type": "stream",
     "text": [
      "\n",
      "117it [00:04, 25.21it/s]\n",
      "\u001b[32m[I 2023-05-03 23:54:33,258]\u001b[0m Trial 37 finished with value: 59.63466665148735 and parameters: {'dropout_rate': 0.3552446538300083, 'lr': 0.02970624483790216, 'sentiment_loss_weight': 0.19021788561561223, 'emotion_loss_weight': 0.19188602219991485}. Best is trial 12 with value: 33.932302340865135.\u001b[0m\n"
     ]
    },
    {
     "name": "stdout",
     "output_type": "stream",
     "text": [
      "\u001b[97m Training Epoch ( 0 / 1 )\n"
     ]
    },
    {
     "name": "stderr",
     "output_type": "stream",
     "text": [
      "1042it [00:42, 24.31it/s]"
     ]
    },
    {
     "name": "stdout",
     "output_type": "stream",
     "text": [
      "[1] loss: 197.863\n",
      "\u001b[96m Now running validation...\n"
     ]
    },
    {
     "name": "stderr",
     "output_type": "stream",
     "text": [
      "\n",
      "117it [00:04, 25.15it/s]\n",
      "\u001b[32m[I 2023-05-03 23:55:21,448]\u001b[0m Trial 38 finished with value: 110.34082233905792 and parameters: {'dropout_rate': 0.27437633941826034, 'lr': 0.04094642794951543, 'sentiment_loss_weight': 0.5481588440291709, 'emotion_loss_weight': 0.24048500563746927}. Best is trial 12 with value: 33.932302340865135.\u001b[0m\n"
     ]
    },
    {
     "name": "stdout",
     "output_type": "stream",
     "text": [
      "\u001b[97m Training Epoch ( 0 / 1 )\n"
     ]
    },
    {
     "name": "stderr",
     "output_type": "stream",
     "text": [
      "1042it [00:42, 24.44it/s]"
     ]
    },
    {
     "name": "stdout",
     "output_type": "stream",
     "text": [
      "[1] loss: 148.550\n",
      "\u001b[96m Now running validation...\n"
     ]
    },
    {
     "name": "stderr",
     "output_type": "stream",
     "text": [
      "\n",
      "117it [00:04, 25.09it/s]\n",
      "\u001b[32m[I 2023-05-03 23:56:09,405]\u001b[0m Trial 39 finished with value: 86.48916697502136 and parameters: {'dropout_rate': 0.315484804848629, 'lr': 0.052412362178706755, 'sentiment_loss_weight': 0.16115218590053274, 'emotion_loss_weight': 0.3448593991379776}. Best is trial 12 with value: 33.932302340865135.\u001b[0m\n"
     ]
    },
    {
     "name": "stdout",
     "output_type": "stream",
     "text": [
      "\u001b[97m Training Epoch ( 0 / 1 )\n"
     ]
    },
    {
     "name": "stderr",
     "output_type": "stream",
     "text": [
      "1042it [00:42, 24.36it/s]"
     ]
    },
    {
     "name": "stdout",
     "output_type": "stream",
     "text": [
      "[1] loss: 101.761\n",
      "\u001b[96m Now running validation...\n"
     ]
    },
    {
     "name": "stderr",
     "output_type": "stream",
     "text": [
      "\n",
      "117it [00:04, 25.38it/s]\n",
      "\u001b[32m[I 2023-05-03 23:56:57,469]\u001b[0m Trial 40 finished with value: 56.13752771914005 and parameters: {'dropout_rate': 0.25993311319843165, 'lr': 0.014494111013408554, 'sentiment_loss_weight': 0.30160335451785747, 'emotion_loss_weight': 0.1271817365638127}. Best is trial 12 with value: 33.932302340865135.\u001b[0m\n"
     ]
    },
    {
     "name": "stdout",
     "output_type": "stream",
     "text": [
      "\u001b[97m Training Epoch ( 0 / 1 )\n"
     ]
    },
    {
     "name": "stderr",
     "output_type": "stream",
     "text": [
      "117it [00:04, 25.39it/s]]\n",
      "\u001b[32m[I 2023-05-03 23:58:33,828]\u001b[0m Trial 42 finished with value: 50.540827840566635 and parameters: {'dropout_rate': 0.2997232706729339, 'lr': 0.061352637564847434, 'sentiment_loss_weight': 0.14471195536452908, 'emotion_loss_weight': 0.14689056160903158}. Best is trial 12 with value: 33.932302340865135.\u001b[0m\n"
     ]
    },
    {
     "name": "stdout",
     "output_type": "stream",
     "text": [
      "\u001b[97m Training Epoch ( 0 / 1 )\n"
     ]
    },
    {
     "name": "stderr",
     "output_type": "stream",
     "text": [
      "1042it [00:42, 24.36it/s]"
     ]
    },
    {
     "name": "stdout",
     "output_type": "stream",
     "text": [
      "[1] loss: 94.974\n",
      "\u001b[96m Now running validation...\n"
     ]
    },
    {
     "name": "stderr",
     "output_type": "stream",
     "text": [
      "\n",
      "117it [00:04, 25.12it/s]\n",
      "\u001b[32m[I 2023-05-03 23:59:21,941]\u001b[0m Trial 43 finished with value: 54.31099450588226 and parameters: {'dropout_rate': 0.33825061922497135, 'lr': 0.02015850496465478, 'sentiment_loss_weight': 0.14814855549460104, 'emotion_loss_weight': 0.20517209953508805}. Best is trial 12 with value: 33.932302340865135.\u001b[0m\n"
     ]
    },
    {
     "name": "stdout",
     "output_type": "stream",
     "text": [
      "\u001b[97m Training Epoch ( 0 / 1 )\n"
     ]
    },
    {
     "name": "stderr",
     "output_type": "stream",
     "text": [
      "1042it [00:42, 24.43it/s]"
     ]
    },
    {
     "name": "stdout",
     "output_type": "stream",
     "text": [
      "[1] loss: 93.129\n",
      "\u001b[96m Now running validation...\n"
     ]
    },
    {
     "name": "stderr",
     "output_type": "stream",
     "text": [
      "\n",
      "117it [00:04, 25.19it/s]\n",
      "\u001b[32m[I 2023-05-04 00:00:09,908]\u001b[0m Trial 44 finished with value: 52.86603781580925 and parameters: {'dropout_rate': 0.21173670576068265, 'lr': 0.09479474806557485, 'sentiment_loss_weight': 0.1993131145794869, 'emotion_loss_weight': 0.13454914369619758}. Best is trial 12 with value: 33.932302340865135.\u001b[0m\n"
     ]
    },
    {
     "name": "stdout",
     "output_type": "stream",
     "text": [
      "\u001b[97m Training Epoch ( 0 / 1 )\n"
     ]
    },
    {
     "name": "stderr",
     "output_type": "stream",
     "text": [
      "1042it [00:42, 24.36it/s]"
     ]
    },
    {
     "name": "stdout",
     "output_type": "stream",
     "text": [
      "[1] loss: 154.606\n",
      "\u001b[96m Now running validation...\n"
     ]
    },
    {
     "name": "stderr",
     "output_type": "stream",
     "text": [
      "\n",
      "117it [00:04, 25.29it/s]\n",
      "\u001b[32m[I 2023-05-04 00:00:57,984]\u001b[0m Trial 45 finished with value: 89.93800675868988 and parameters: {'dropout_rate': 0.24158146395009306, 'lr': 0.042648520569990134, 'sentiment_loss_weight': 0.36545122082858905, 'emotion_loss_weight': 0.22794132386591004}. Best is trial 12 with value: 33.932302340865135.\u001b[0m\n"
     ]
    },
    {
     "name": "stdout",
     "output_type": "stream",
     "text": [
      "\u001b[97m Training Epoch ( 0 / 1 )\n"
     ]
    },
    {
     "name": "stderr",
     "output_type": "stream",
     "text": [
      "1042it [00:42, 24.27it/s]"
     ]
    },
    {
     "name": "stdout",
     "output_type": "stream",
     "text": [
      "[1] loss: 126.718\n",
      "\u001b[96m Now running validation...\n"
     ]
    },
    {
     "name": "stderr",
     "output_type": "stream",
     "text": [
      "\n",
      "117it [00:04, 25.37it/s]\n",
      "\u001b[32m[I 2023-05-04 00:01:46,197]\u001b[0m Trial 46 finished with value: 71.88166853785515 and parameters: {'dropout_rate': 0.2699071401926905, 'lr': 0.06119300066419054, 'sentiment_loss_weight': 0.13716414565555793, 'emotion_loss_weight': 0.29135955247329803}. Best is trial 12 with value: 33.932302340865135.\u001b[0m\n"
     ]
    },
    {
     "name": "stdout",
     "output_type": "stream",
     "text": [
      "\u001b[97m Training Epoch ( 0 / 1 )\n"
     ]
    },
    {
     "name": "stderr",
     "output_type": "stream",
     "text": [
      "1042it [00:42, 24.32it/s]"
     ]
    },
    {
     "name": "stdout",
     "output_type": "stream",
     "text": [
      "[1] loss: 81.843\n",
      "\u001b[96m Now running validation...\n"
     ]
    },
    {
     "name": "stderr",
     "output_type": "stream",
     "text": [
      "\n",
      "117it [00:04, 25.32it/s]\n",
      "\u001b[32m[I 2023-05-04 00:02:34,348]\u001b[0m Trial 47 finished with value: 46.97856630384922 and parameters: {'dropout_rate': 0.35815185017698736, 'lr': 0.027280538400772106, 'sentiment_loss_weight': 0.23181011412018615, 'emotion_loss_weight': 0.10130950138421208}. Best is trial 12 with value: 33.932302340865135.\u001b[0m\n"
     ]
    },
    {
     "name": "stdout",
     "output_type": "stream",
     "text": [
      "\u001b[97m Training Epoch ( 0 / 1 )\n"
     ]
    },
    {
     "name": "stderr",
     "output_type": "stream",
     "text": [
      "1042it [00:42, 24.33it/s]"
     ]
    },
    {
     "name": "stdout",
     "output_type": "stream",
     "text": [
      "[1] loss: 88.487\n",
      "\u001b[96m Now running validation...\n"
     ]
    },
    {
     "name": "stderr",
     "output_type": "stream",
     "text": [
      "\n",
      "117it [00:04, 25.11it/s]\n",
      "\u001b[32m[I 2023-05-04 00:03:22,520]\u001b[0m Trial 48 finished with value: 50.10430088639259 and parameters: {'dropout_rate': 0.39994408631065254, 'lr': 0.00933313627571584, 'sentiment_loss_weight': 0.2308531578992365, 'emotion_loss_weight': 0.13503308489264654}. Best is trial 12 with value: 33.932302340865135.\u001b[0m\n"
     ]
    },
    {
     "name": "stdout",
     "output_type": "stream",
     "text": [
      "\u001b[97m Training Epoch ( 0 / 1 )\n"
     ]
    },
    {
     "name": "stderr",
     "output_type": "stream",
     "text": [
      "1042it [00:42, 24.42it/s]"
     ]
    },
    {
     "name": "stdout",
     "output_type": "stream",
     "text": [
      "[1] loss: 66.068\n",
      "\u001b[96m Now running validation...\n"
     ]
    },
    {
     "name": "stderr",
     "output_type": "stream",
     "text": [
      "\n",
      "117it [00:04, 25.16it/s]\n",
      "\u001b[32m[I 2023-05-04 00:04:10,519]\u001b[0m Trial 49 finished with value: 37.62100152671337 and parameters: {'dropout_rate': 0.36672350328996317, 'lr': 0.02583007172262857, 'sentiment_loss_weight': 0.15375111982123296, 'emotion_loss_weight': 0.10466861778644976}. Best is trial 12 with value: 33.932302340865135.\u001b[0m\n"
     ]
    },
    {
     "name": "stdout",
     "output_type": "stream",
     "text": [
      "\u001b[97m Training Epoch ( 0 / 1 )\n"
     ]
    },
    {
     "name": "stderr",
     "output_type": "stream",
     "text": [
      "1042it [00:42, 24.41it/s]"
     ]
    },
    {
     "name": "stdout",
     "output_type": "stream",
     "text": [
      "[1] loss: 69.775\n",
      "\u001b[96m Now running validation...\n"
     ]
    },
    {
     "name": "stderr",
     "output_type": "stream",
     "text": [
      "\n",
      "117it [00:04, 25.37it/s]\n",
      "\u001b[32m[I 2023-05-04 00:04:58,468]\u001b[0m Trial 50 finished with value: 40.613668501377106 and parameters: {'dropout_rate': 0.35753789121809354, 'lr': 0.02312240276031846, 'sentiment_loss_weight': 0.17343140512609995, 'emotion_loss_weight': 0.10399274519676523}. Best is trial 12 with value: 33.932302340865135.\u001b[0m\n"
     ]
    },
    {
     "name": "stdout",
     "output_type": "stream",
     "text": [
      "\u001b[97m Training Epoch ( 0 / 1 )\n"
     ]
    },
    {
     "name": "stderr",
     "output_type": "stream",
     "text": [
      "1042it [00:42, 24.27it/s]"
     ]
    },
    {
     "name": "stdout",
     "output_type": "stream",
     "text": [
      "[1] loss: 73.350\n",
      "\u001b[96m Now running validation...\n"
     ]
    },
    {
     "name": "stderr",
     "output_type": "stream",
     "text": [
      "\n",
      "117it [00:04, 25.40it/s]\n",
      "\u001b[32m[I 2023-05-04 00:05:46,657]\u001b[0m Trial 51 finished with value: 42.02290304005146 and parameters: {'dropout_rate': 0.3538454928607773, 'lr': 0.01553925310323572, 'sentiment_loss_weight': 0.19378623414508472, 'emotion_loss_weight': 0.10763165050580474}. Best is trial 12 with value: 33.932302340865135.\u001b[0m\n"
     ]
    },
    {
     "name": "stdout",
     "output_type": "stream",
     "text": [
      "\u001b[97m Training Epoch ( 0 / 1 )\n"
     ]
    },
    {
     "name": "stderr",
     "output_type": "stream",
     "text": [
      "1042it [00:42, 24.30it/s]"
     ]
    },
    {
     "name": "stdout",
     "output_type": "stream",
     "text": [
      "[1] loss: 79.879\n",
      "\u001b[96m Now running validation...\n"
     ]
    },
    {
     "name": "stderr",
     "output_type": "stream",
     "text": [
      "\n",
      "117it [00:04, 25.37it/s]\n",
      "\u001b[32m[I 2023-05-04 00:06:34,815]\u001b[0m Trial 52 finished with value: 45.541051760315895 and parameters: {'dropout_rate': 0.42474046544898314, 'lr': 0.01424398742416805, 'sentiment_loss_weight': 0.17782647549531022, 'emotion_loss_weight': 0.14136644260246162}. Best is trial 12 with value: 33.932302340865135.\u001b[0m\n"
     ]
    },
    {
     "name": "stdout",
     "output_type": "stream",
     "text": [
      "\u001b[97m Training Epoch ( 0 / 1 )\n"
     ]
    },
    {
     "name": "stderr",
     "output_type": "stream",
     "text": [
      "1042it [00:42, 24.29it/s]"
     ]
    },
    {
     "name": "stdout",
     "output_type": "stream",
     "text": [
      "[1] loss: 76.761\n",
      "\u001b[96m Now running validation...\n"
     ]
    },
    {
     "name": "stderr",
     "output_type": "stream",
     "text": [
      "\n",
      "117it [00:04, 25.03it/s]\n",
      "\u001b[32m[I 2023-05-04 00:07:23,065]\u001b[0m Trial 53 finished with value: 44.52856534719467 and parameters: {'dropout_rate': 0.4203455002209419, 'lr': 0.015308045168881516, 'sentiment_loss_weight': 0.18285227890784525, 'emotion_loss_weight': 0.12611323790991913}. Best is trial 12 with value: 33.932302340865135.\u001b[0m\n"
     ]
    },
    {
     "name": "stdout",
     "output_type": "stream",
     "text": [
      "\u001b[97m Training Epoch ( 0 / 1 )\n"
     ]
    },
    {
     "name": "stderr",
     "output_type": "stream",
     "text": [
      "1042it [00:42, 24.42it/s]"
     ]
    },
    {
     "name": "stdout",
     "output_type": "stream",
     "text": [
      "[1] loss: 83.146\n",
      "\u001b[96m Now running validation...\n"
     ]
    },
    {
     "name": "stderr",
     "output_type": "stream",
     "text": [
      "\n",
      "117it [00:04, 25.16it/s]\n",
      "\u001b[32m[I 2023-05-04 00:08:11,061]\u001b[0m Trial 54 finished with value: 46.55862136185169 and parameters: {'dropout_rate': 0.4146976944529973, 'lr': 0.007042829317412696, 'sentiment_loss_weight': 0.2603972556252775, 'emotion_loss_weight': 0.10371162077244064}. Best is trial 12 with value: 33.932302340865135.\u001b[0m\n"
     ]
    },
    {
     "name": "stdout",
     "output_type": "stream",
     "text": [
      "\u001b[97m Training Epoch ( 0 / 1 )\n"
     ]
    },
    {
     "name": "stderr",
     "output_type": "stream",
     "text": [
      "1042it [00:42, 24.37it/s]"
     ]
    },
    {
     "name": "stdout",
     "output_type": "stream",
     "text": [
      "[1] loss: 92.710\n",
      "\u001b[96m Now running validation...\n"
     ]
    },
    {
     "name": "stderr",
     "output_type": "stream",
     "text": [
      "\n",
      "117it [00:04, 25.34it/s]\n",
      "\u001b[32m[I 2023-05-04 00:08:59,106]\u001b[0m Trial 55 finished with value: 53.34364029765129 and parameters: {'dropout_rate': 0.37641178497226685, 'lr': 0.005046384141551536, 'sentiment_loss_weight': 0.1900306274804942, 'emotion_loss_weight': 0.19145382177196538}. Best is trial 12 with value: 33.932302340865135.\u001b[0m\n"
     ]
    },
    {
     "name": "stdout",
     "output_type": "stream",
     "text": [
      "\u001b[97m Training Epoch ( 0 / 1 )\n"
     ]
    },
    {
     "name": "stderr",
     "output_type": "stream",
     "text": [
      "1042it [00:42, 24.27it/s]"
     ]
    },
    {
     "name": "stdout",
     "output_type": "stream",
     "text": [
      "[1] loss: 99.332\n",
      "\u001b[96m Now running validation...\n"
     ]
    },
    {
     "name": "stderr",
     "output_type": "stream",
     "text": [
      "\n",
      "117it [00:04, 25.25it/s]\n",
      "\u001b[32m[I 2023-05-04 00:09:47,360]\u001b[0m Trial 56 finished with value: 55.690728306770325 and parameters: {'dropout_rate': 0.4432512332658808, 'lr': 0.011447462074360001, 'sentiment_loss_weight': 0.30651020520241035, 'emotion_loss_weight': 0.12834726774850583}. Best is trial 12 with value: 33.932302340865135.\u001b[0m\n"
     ]
    },
    {
     "name": "stdout",
     "output_type": "stream",
     "text": [
      "\u001b[97m Training Epoch ( 0 / 1 )\n"
     ]
    },
    {
     "name": "stderr",
     "output_type": "stream",
     "text": [
      "1042it [00:42, 24.28it/s]"
     ]
    },
    {
     "name": "stdout",
     "output_type": "stream",
     "text": [
      "[1] loss: 90.306\n",
      "\u001b[96m Now running validation...\n"
     ]
    },
    {
     "name": "stderr",
     "output_type": "stream",
     "text": [
      "\n",
      "117it [00:04, 25.22it/s]\n",
      "\u001b[32m[I 2023-05-04 00:10:35,569]\u001b[0m Trial 57 finished with value: 51.50129607319832 and parameters: {'dropout_rate': 0.39808702067209756, 'lr': 0.01755911618780242, 'sentiment_loss_weight': 0.13340103268105047, 'emotion_loss_weight': 0.2046907139196404}. Best is trial 12 with value: 33.932302340865135.\u001b[0m\n"
     ]
    },
    {
     "name": "stdout",
     "output_type": "stream",
     "text": [
      "\u001b[97m Training Epoch ( 0 / 1 )\n"
     ]
    },
    {
     "name": "stderr",
     "output_type": "stream",
     "text": [
      "1042it [00:42, 24.33it/s]"
     ]
    },
    {
     "name": "stdout",
     "output_type": "stream",
     "text": [
      "[1] loss: 117.382\n",
      "\u001b[96m Now running validation...\n"
     ]
    },
    {
     "name": "stderr",
     "output_type": "stream",
     "text": [
      "\n",
      "117it [00:04, 25.10it/s]\n",
      "\u001b[32m[I 2023-05-04 00:11:23,731]\u001b[0m Trial 58 finished with value: 68.72274953126907 and parameters: {'dropout_rate': 0.33999434692398467, 'lr': 0.0369350203897284, 'sentiment_loss_weight': 0.1735399875035171, 'emotion_loss_weight': 0.25217363824032957}. Best is trial 12 with value: 33.932302340865135.\u001b[0m\n"
     ]
    },
    {
     "name": "stdout",
     "output_type": "stream",
     "text": [
      "\u001b[97m Training Epoch ( 0 / 1 )\n"
     ]
    },
    {
     "name": "stderr",
     "output_type": "stream",
     "text": [
      "1042it [00:42, 24.43it/s]"
     ]
    },
    {
     "name": "stdout",
     "output_type": "stream",
     "text": [
      "[1] loss: 125.010\n",
      "\u001b[96m Now running validation...\n"
     ]
    },
    {
     "name": "stderr",
     "output_type": "stream",
     "text": [
      "\n",
      "117it [00:04, 25.26it/s]\n",
      "\u001b[32m[I 2023-05-04 00:12:11,703]\u001b[0m Trial 59 finished with value: 69.85668727755547 and parameters: {'dropout_rate': 0.3644966128373748, 'lr': 0.0024679257774519567, 'sentiment_loss_weight': 0.34629303383730436, 'emotion_loss_weight': 0.1757507907376848}. Best is trial 12 with value: 33.932302340865135.\u001b[0m\n"
     ]
    }
   ],
   "source": [
    "#@title Training the Final Model\n",
    "\n",
    "best_results = {'loss': float('inf'), 'model': None}\n",
    "\n",
    "print_every = 5\n",
    "\n",
    "def objective(trial, resume=False, num_epochs=1):\n",
    "    dropout_rate = trial.suggest_uniform('dropout_rate', 0, 0.5) if not resume else study.best_params['dropout_rate']\n",
    "    lr = trial.suggest_loguniform('lr', 1e-5, 1e-1) if not resume else study.best_params['lr']\n",
    "    sentiment_loss_weight = trial.suggest_uniform('sentiment_loss_weight', 0.1, 1.0) if not resume else study.best_params['sentiment_loss_weight']\n",
    "    emotion_loss_weight = trial.suggest_uniform('emotion_loss_weight', 0.1, 1.0) if not resume else study.best_params['emotion_loss_weight']\n",
    "\n",
    "    multimodal_model = DownstreamModel(contrastive_model=contrastive_model, num_sentiment_classes=3, num_emotion_classes=7, dropout_rate=dropout_rate)\n",
    "    if resume:\n",
    "        multimodal_model.load_state_dict(torch.load('best_model.pt'))\n",
    "    multimodal_model.to(device)\n",
    "\n",
    "    optimizer = optim.Adam(multimodal_model.parameters(), lr=lr, weight_decay=1e-5)\n",
    "\n",
    "    criterion = nn.CrossEntropyLoss()\n",
    "    \n",
    "    trial_best_val_loss = float('inf')\n",
    "\n",
    "    for epoch in range(num_epochs):\n",
    "        multimodal_model.train()\n",
    "        running_loss = 0.0\n",
    "        print(grey, \"Training Epoch (\", epoch, \"/\", num_epochs, \")\")\n",
    "        for i, (inputs, sentiment_label, emotion_label) in tqdm(enumerate(data_loaders['train'], 0)):\n",
    "            inputs = tuple(input.to(device) for input in inputs)\n",
    "            with torch.no_grad():\n",
    "                text_input = bert_model(inputs[1].squeeze(1))[0] # Text input through BERT\n",
    "            inputs = (inputs[0], text_input)\n",
    "\n",
    "            optimizer.zero_grad()\n",
    "\n",
    "            sentiment_out, emotion_out = multimodal_model(*inputs)\n",
    "            sentiment_loss = criterion(sentiment_out, sentiment_label.to(device))\n",
    "            emotion_loss = criterion(emotion_out, emotion_label.to(device))\n",
    "            loss = sentiment_loss_weight * sentiment_loss + emotion_loss_weight * emotion_loss\n",
    "            loss.backward()\n",
    "            optimizer.step()\n",
    "\n",
    "            running_loss += loss.item()\n",
    "        if epoch % print_every == 0:\n",
    "            print('[%d] loss: %.3f' % (epoch + 1, running_loss / print_every))\n",
    "            running_loss = 0.0\n",
    "\n",
    "        print(teal, \"Now running validation...\")\n",
    "        multimodal_model.eval()\n",
    "        val_loss = 0.0\n",
    "        with torch.no_grad():\n",
    "            for i, (inputs, sentiment_label, emotion_label) in tqdm(enumerate(data_loaders['dev'], 0)):\n",
    "                inputs = tuple(input.to(device) for input in inputs)\n",
    "                with torch.no_grad():\n",
    "                    text_input = bert_model(inputs[1].squeeze(1))[0]\n",
    "                inputs = (inputs[0], text_input)\n",
    "                sentiment_out, emotion_out = multimodal_model(*inputs)\n",
    "                sentiment_loss = criterion(sentiment_out, sentiment_label.to(device))\n",
    "                emotion_loss = criterion(emotion_out, emotion_label.to(device))\n",
    "                loss = sentiment_loss_weight * sentiment_loss + emotion_loss_weight * emotion_loss\n",
    "                val_loss += loss.item()\n",
    "\n",
    "        if val_loss < trial_best_val_loss:\n",
    "            trial_best_val_loss = val_loss\n",
    "        if val_loss < best_results['loss']:\n",
    "            print(blue, \"New best validation loss achieved! \", val_loss)\n",
    "            print(blue, \"Best dropout rate: \", dropout_rate)\n",
    "            print(blue, \"Best learning rate: \", lr)\n",
    "            print(blue, \"Best sentiment_loss weight: \", sentiment_loss_weight)\n",
    "            print(blue, \"Best emotion_loss weight: \", emotion_loss_weight)\n",
    "            best_results['loss'] = val_loss\n",
    "            best_results['model'] = multimodal_model.state_dict()\n",
    "            torch.save(best_results['model'], 'best_model.pt')\n",
    "        if not resume and trial.should_prune():\n",
    "            raise optuna.TrialPruned()\n",
    "    \n",
    "    return trial_best_val_loss\n",
    "\n",
    "# Load pre-trained model\n",
    "\n",
    "contrastive_model = MultimodalModel(audio_dim=audio_dim, text_dim=text_dim).to(device)\n",
    "contrastive_model.load_state_dict(torch.load('contrastive_model.pt'))\n",
    "\n",
    "study = optuna.create_study(direction='minimize', pruner=optuna.pruners.MedianPruner())\n",
    "study.optimize(objective, n_trials=60)\n",
    "\n",
    "best_params = study.best_params\n",
    "with open('best_params.pickle', 'wb') as handle:\n",
    "    pickle.dump(best_params, handle, protocol=pickle.HIGHEST_PROTOCOL)"
   ]
  },
  {
   "cell_type": "code",
   "execution_count": 85,
   "metadata": {},
   "outputs": [
    {
     "name": "stdout",
     "output_type": "stream",
     "text": [
      "\u001b[94m Best loss value:  33.932302340865135\n",
      "\u001b[94m Best params:  {'dropout_rate': 0.29062262257242283, 'lr': 0.09813246249328197, 'sentiment_loss_weight': 0.10547342261631548, 'emotion_loss_weight': 0.10061215216700725}\n"
     ]
    }
   ],
   "source": [
    "print(blue, \"Best loss value: \", study.best_trial.value)\n",
    "print(blue, \"Best params: \", best_params)"
   ]
  },
  {
   "cell_type": "code",
   "execution_count": 112,
   "metadata": {},
   "outputs": [
    {
     "name": "stdout",
     "output_type": "stream",
     "text": [
      "\u001b[95m Now to train the best trial model for multiple epochs...\n",
      "\u001b[97m Training Epoch ( 0 / 30 )\n"
     ]
    },
    {
     "name": "stderr",
     "output_type": "stream",
     "text": [
      "1042it [00:42, 24.33it/s]"
     ]
    },
    {
     "name": "stdout",
     "output_type": "stream",
     "text": [
      "[1] loss: 60.616\n",
      "\u001b[96m Now running validation...\n"
     ]
    },
    {
     "name": "stderr",
     "output_type": "stream",
     "text": [
      "\n",
      "117it [00:04, 25.37it/s]"
     ]
    },
    {
     "name": "stdout",
     "output_type": "stream",
     "text": [
      "\u001b[97m Training Epoch ( 1 / 30 )\n"
     ]
    },
    {
     "name": "stderr",
     "output_type": "stream",
     "text": [
      "\n",
      "1042it [00:42, 24.35it/s]"
     ]
    },
    {
     "name": "stdout",
     "output_type": "stream",
     "text": [
      "\u001b[96m Now running validation...\n"
     ]
    },
    {
     "name": "stderr",
     "output_type": "stream",
     "text": [
      "\n",
      "117it [00:04, 25.11it/s]"
     ]
    },
    {
     "name": "stdout",
     "output_type": "stream",
     "text": [
      "\u001b[97m Training Epoch ( 2 / 30 )\n"
     ]
    },
    {
     "name": "stderr",
     "output_type": "stream",
     "text": [
      "\n",
      "1042it [00:42, 24.39it/s]"
     ]
    },
    {
     "name": "stdout",
     "output_type": "stream",
     "text": [
      "\u001b[96m Now running validation...\n"
     ]
    },
    {
     "name": "stderr",
     "output_type": "stream",
     "text": [
      "\n",
      "117it [00:04, 25.08it/s]\n"
     ]
    },
    {
     "name": "stdout",
     "output_type": "stream",
     "text": [
      "\u001b[97m Training Epoch ( 3 / 30 )\n"
     ]
    },
    {
     "name": "stderr",
     "output_type": "stream",
     "text": [
      "1042it [00:42, 24.30it/s]"
     ]
    },
    {
     "name": "stdout",
     "output_type": "stream",
     "text": [
      "\u001b[96m Now running validation...\n"
     ]
    },
    {
     "name": "stderr",
     "output_type": "stream",
     "text": [
      "\n",
      "117it [00:04, 25.06it/s]"
     ]
    },
    {
     "name": "stdout",
     "output_type": "stream",
     "text": [
      "\u001b[97m Training Epoch ( 4 / 30 )\n"
     ]
    },
    {
     "name": "stderr",
     "output_type": "stream",
     "text": [
      "\n",
      "1042it [00:43, 24.21it/s]"
     ]
    },
    {
     "name": "stdout",
     "output_type": "stream",
     "text": [
      "\u001b[96m Now running validation...\n"
     ]
    },
    {
     "name": "stderr",
     "output_type": "stream",
     "text": [
      "\n",
      "117it [00:04, 25.34it/s]"
     ]
    },
    {
     "name": "stdout",
     "output_type": "stream",
     "text": [
      "\u001b[97m Training Epoch ( 5 / 30 )\n"
     ]
    },
    {
     "name": "stderr",
     "output_type": "stream",
     "text": [
      "\n",
      "1042it [00:43, 24.20it/s]"
     ]
    },
    {
     "name": "stdout",
     "output_type": "stream",
     "text": [
      "[6] loss: 60.485\n",
      "\u001b[96m Now running validation...\n"
     ]
    },
    {
     "name": "stderr",
     "output_type": "stream",
     "text": [
      "\n",
      "117it [00:04, 25.19it/s]"
     ]
    },
    {
     "name": "stdout",
     "output_type": "stream",
     "text": [
      "\u001b[97m Training Epoch ( 6 / 30 )\n"
     ]
    },
    {
     "name": "stderr",
     "output_type": "stream",
     "text": [
      "\n",
      "1042it [00:42, 24.26it/s]"
     ]
    },
    {
     "name": "stdout",
     "output_type": "stream",
     "text": [
      "\u001b[96m Now running validation...\n"
     ]
    },
    {
     "name": "stderr",
     "output_type": "stream",
     "text": [
      "\n",
      "117it [00:04, 25.02it/s]"
     ]
    },
    {
     "name": "stdout",
     "output_type": "stream",
     "text": [
      "\u001b[97m Training Epoch ( 7 / 30 )\n"
     ]
    },
    {
     "name": "stderr",
     "output_type": "stream",
     "text": [
      "\n",
      "1042it [00:42, 24.33it/s]"
     ]
    },
    {
     "name": "stdout",
     "output_type": "stream",
     "text": [
      "\u001b[96m Now running validation...\n"
     ]
    },
    {
     "name": "stderr",
     "output_type": "stream",
     "text": [
      "\n",
      "117it [00:04, 25.08it/s]"
     ]
    },
    {
     "name": "stdout",
     "output_type": "stream",
     "text": [
      "\u001b[97m Training Epoch ( 8 / 30 )\n"
     ]
    },
    {
     "name": "stderr",
     "output_type": "stream",
     "text": [
      "\n",
      "1042it [00:42, 24.27it/s]"
     ]
    },
    {
     "name": "stdout",
     "output_type": "stream",
     "text": [
      "\u001b[96m Now running validation...\n"
     ]
    },
    {
     "name": "stderr",
     "output_type": "stream",
     "text": [
      "\n",
      "117it [00:04, 25.18it/s]"
     ]
    },
    {
     "name": "stdout",
     "output_type": "stream",
     "text": [
      "\u001b[97m Training Epoch ( 9 / 30 )\n"
     ]
    },
    {
     "name": "stderr",
     "output_type": "stream",
     "text": [
      "\n",
      "1042it [00:43, 24.23it/s]"
     ]
    },
    {
     "name": "stdout",
     "output_type": "stream",
     "text": [
      "\u001b[96m Now running validation...\n"
     ]
    },
    {
     "name": "stderr",
     "output_type": "stream",
     "text": [
      "\n",
      "117it [00:04, 25.30it/s]"
     ]
    },
    {
     "name": "stdout",
     "output_type": "stream",
     "text": [
      "\u001b[97m Training Epoch ( 10 / 30 )\n"
     ]
    },
    {
     "name": "stderr",
     "output_type": "stream",
     "text": [
      "\n",
      "1042it [00:43, 24.23it/s]"
     ]
    },
    {
     "name": "stdout",
     "output_type": "stream",
     "text": [
      "[11] loss: 60.671\n",
      "\u001b[96m Now running validation...\n"
     ]
    },
    {
     "name": "stderr",
     "output_type": "stream",
     "text": [
      "\n",
      "117it [00:04, 25.36it/s]"
     ]
    },
    {
     "name": "stdout",
     "output_type": "stream",
     "text": [
      "\u001b[97m Training Epoch ( 11 / 30 )\n"
     ]
    },
    {
     "name": "stderr",
     "output_type": "stream",
     "text": [
      "\n",
      "1042it [00:42, 24.29it/s]"
     ]
    },
    {
     "name": "stdout",
     "output_type": "stream",
     "text": [
      "\u001b[96m Now running validation...\n"
     ]
    },
    {
     "name": "stderr",
     "output_type": "stream",
     "text": [
      "\n",
      "117it [00:04, 25.08it/s]"
     ]
    },
    {
     "name": "stdout",
     "output_type": "stream",
     "text": [
      "\u001b[94m New best validation loss achieved!  33.902419686317444\n",
      "\u001b[94m Best dropout rate:  0.29062262257242283\n",
      "\u001b[94m Best learning rate:  0.09813246249328197\n",
      "\u001b[94m Best sentiment_loss weight:  0.10547342261631548\n",
      "\u001b[94m Best emotion_loss weight:  0.10061215216700725\n",
      "\u001b[97m Training Epoch ( 12 / 30 )\n"
     ]
    },
    {
     "name": "stderr",
     "output_type": "stream",
     "text": [
      "\n",
      "1042it [00:42, 24.40it/s]"
     ]
    },
    {
     "name": "stdout",
     "output_type": "stream",
     "text": [
      "\u001b[96m Now running validation...\n"
     ]
    },
    {
     "name": "stderr",
     "output_type": "stream",
     "text": [
      "\n",
      "117it [00:04, 25.05it/s]"
     ]
    },
    {
     "name": "stdout",
     "output_type": "stream",
     "text": [
      "\u001b[97m Training Epoch ( 13 / 30 )\n"
     ]
    },
    {
     "name": "stderr",
     "output_type": "stream",
     "text": [
      "\n",
      "1042it [00:42, 24.29it/s]"
     ]
    },
    {
     "name": "stdout",
     "output_type": "stream",
     "text": [
      "\u001b[96m Now running validation...\n"
     ]
    },
    {
     "name": "stderr",
     "output_type": "stream",
     "text": [
      "\n",
      "117it [00:04, 25.29it/s]"
     ]
    },
    {
     "name": "stdout",
     "output_type": "stream",
     "text": [
      "\u001b[97m Training Epoch ( 14 / 30 )\n"
     ]
    },
    {
     "name": "stderr",
     "output_type": "stream",
     "text": [
      "\n",
      "1042it [00:43, 24.23it/s]"
     ]
    },
    {
     "name": "stdout",
     "output_type": "stream",
     "text": [
      "\u001b[96m Now running validation...\n"
     ]
    },
    {
     "name": "stderr",
     "output_type": "stream",
     "text": [
      "\n",
      "117it [00:04, 25.33it/s]"
     ]
    },
    {
     "name": "stdout",
     "output_type": "stream",
     "text": [
      "\u001b[97m Training Epoch ( 15 / 30 )\n"
     ]
    },
    {
     "name": "stderr",
     "output_type": "stream",
     "text": [
      "\n",
      "1042it [00:43, 24.22it/s]"
     ]
    },
    {
     "name": "stdout",
     "output_type": "stream",
     "text": [
      "[16] loss: 60.333\n",
      "\u001b[96m Now running validation...\n"
     ]
    },
    {
     "name": "stderr",
     "output_type": "stream",
     "text": [
      "\n",
      "117it [00:04, 25.27it/s]"
     ]
    },
    {
     "name": "stdout",
     "output_type": "stream",
     "text": [
      "\u001b[97m Training Epoch ( 16 / 30 )\n"
     ]
    },
    {
     "name": "stderr",
     "output_type": "stream",
     "text": [
      "\n",
      "1042it [00:42, 24.30it/s]"
     ]
    },
    {
     "name": "stdout",
     "output_type": "stream",
     "text": [
      "\u001b[96m Now running validation...\n"
     ]
    },
    {
     "name": "stderr",
     "output_type": "stream",
     "text": [
      "\n",
      "117it [00:04, 25.08it/s]"
     ]
    },
    {
     "name": "stdout",
     "output_type": "stream",
     "text": [
      "\u001b[97m Training Epoch ( 17 / 30 )\n"
     ]
    },
    {
     "name": "stderr",
     "output_type": "stream",
     "text": [
      "\n",
      "1042it [00:42, 24.35it/s]"
     ]
    },
    {
     "name": "stdout",
     "output_type": "stream",
     "text": [
      "\u001b[96m Now running validation...\n"
     ]
    },
    {
     "name": "stderr",
     "output_type": "stream",
     "text": [
      "\n",
      "117it [00:04, 24.94it/s]"
     ]
    },
    {
     "name": "stdout",
     "output_type": "stream",
     "text": [
      "\u001b[97m Training Epoch ( 18 / 30 )\n"
     ]
    },
    {
     "name": "stderr",
     "output_type": "stream",
     "text": [
      "\n",
      "1042it [00:42, 24.27it/s]"
     ]
    },
    {
     "name": "stdout",
     "output_type": "stream",
     "text": [
      "\u001b[96m Now running validation...\n"
     ]
    },
    {
     "name": "stderr",
     "output_type": "stream",
     "text": [
      "\n",
      "117it [00:04, 25.17it/s]"
     ]
    },
    {
     "name": "stdout",
     "output_type": "stream",
     "text": [
      "\u001b[97m Training Epoch ( 19 / 30 )\n"
     ]
    },
    {
     "name": "stderr",
     "output_type": "stream",
     "text": [
      "\n",
      "1042it [00:43, 24.22it/s]"
     ]
    },
    {
     "name": "stdout",
     "output_type": "stream",
     "text": [
      "\u001b[96m Now running validation...\n"
     ]
    },
    {
     "name": "stderr",
     "output_type": "stream",
     "text": [
      "\n",
      "117it [00:04, 25.33it/s]"
     ]
    },
    {
     "name": "stdout",
     "output_type": "stream",
     "text": [
      "\u001b[97m Training Epoch ( 20 / 30 )\n"
     ]
    },
    {
     "name": "stderr",
     "output_type": "stream",
     "text": [
      "\n",
      "1042it [00:42, 24.25it/s]"
     ]
    },
    {
     "name": "stdout",
     "output_type": "stream",
     "text": [
      "[21] loss: 60.580\n",
      "\u001b[96m Now running validation...\n"
     ]
    },
    {
     "name": "stderr",
     "output_type": "stream",
     "text": [
      "\n",
      "117it [00:04, 25.39it/s]"
     ]
    },
    {
     "name": "stdout",
     "output_type": "stream",
     "text": [
      "\u001b[94m New best validation loss achieved!  33.21377204358578\n",
      "\u001b[94m Best dropout rate:  0.29062262257242283\n",
      "\u001b[94m Best learning rate:  0.09813246249328197\n",
      "\u001b[94m Best sentiment_loss weight:  0.10547342261631548\n",
      "\u001b[94m Best emotion_loss weight:  0.10061215216700725\n",
      "\u001b[97m Training Epoch ( 21 / 30 )\n"
     ]
    },
    {
     "name": "stderr",
     "output_type": "stream",
     "text": [
      "\n",
      "1042it [00:42, 24.31it/s]"
     ]
    },
    {
     "name": "stdout",
     "output_type": "stream",
     "text": [
      "\u001b[96m Now running validation...\n"
     ]
    },
    {
     "name": "stderr",
     "output_type": "stream",
     "text": [
      "\n",
      "117it [00:04, 24.94it/s]"
     ]
    },
    {
     "name": "stdout",
     "output_type": "stream",
     "text": [
      "\u001b[94m New best validation loss achieved!  33.12057942152023\n",
      "\u001b[94m Best dropout rate:  0.29062262257242283\n",
      "\u001b[94m Best learning rate:  0.09813246249328197\n",
      "\u001b[94m Best sentiment_loss weight:  0.10547342261631548\n",
      "\u001b[94m Best emotion_loss weight:  0.10061215216700725\n",
      "\u001b[97m Training Epoch ( 22 / 30 )\n"
     ]
    },
    {
     "name": "stderr",
     "output_type": "stream",
     "text": [
      "\n",
      "1042it [00:42, 24.34it/s]"
     ]
    },
    {
     "name": "stdout",
     "output_type": "stream",
     "text": [
      "\u001b[96m Now running validation...\n"
     ]
    },
    {
     "name": "stderr",
     "output_type": "stream",
     "text": [
      "\n",
      "117it [00:04, 24.98it/s]"
     ]
    },
    {
     "name": "stdout",
     "output_type": "stream",
     "text": [
      "\u001b[94m New best validation loss achieved!  32.20049303770065\n",
      "\u001b[94m Best dropout rate:  0.29062262257242283\n",
      "\u001b[94m Best learning rate:  0.09813246249328197\n",
      "\u001b[94m Best sentiment_loss weight:  0.10547342261631548\n",
      "\u001b[94m Best emotion_loss weight:  0.10061215216700725\n",
      "\u001b[97m Training Epoch ( 23 / 30 )\n"
     ]
    },
    {
     "name": "stderr",
     "output_type": "stream",
     "text": [
      "\n",
      "1042it [00:42, 24.31it/s]"
     ]
    },
    {
     "name": "stdout",
     "output_type": "stream",
     "text": [
      "\u001b[96m Now running validation...\n"
     ]
    },
    {
     "name": "stderr",
     "output_type": "stream",
     "text": [
      "\n",
      "117it [00:04, 25.31it/s]"
     ]
    },
    {
     "name": "stdout",
     "output_type": "stream",
     "text": [
      "\u001b[97m Training Epoch ( 24 / 30 )\n"
     ]
    },
    {
     "name": "stderr",
     "output_type": "stream",
     "text": [
      "\n",
      "1042it [00:42, 24.24it/s]"
     ]
    },
    {
     "name": "stdout",
     "output_type": "stream",
     "text": [
      "\u001b[96m Now running validation...\n"
     ]
    },
    {
     "name": "stderr",
     "output_type": "stream",
     "text": [
      "\n",
      "117it [00:04, 25.34it/s]"
     ]
    },
    {
     "name": "stdout",
     "output_type": "stream",
     "text": [
      "\u001b[97m Training Epoch ( 25 / 30 )\n"
     ]
    },
    {
     "name": "stderr",
     "output_type": "stream",
     "text": [
      "\n",
      "1042it [00:43, 24.21it/s]"
     ]
    },
    {
     "name": "stdout",
     "output_type": "stream",
     "text": [
      "[26] loss: 60.548\n",
      "\u001b[96m Now running validation...\n"
     ]
    },
    {
     "name": "stderr",
     "output_type": "stream",
     "text": [
      "\n",
      "117it [00:04, 25.12it/s]\n"
     ]
    },
    {
     "name": "stdout",
     "output_type": "stream",
     "text": [
      "\u001b[97m Training Epoch ( 26 / 30 )\n"
     ]
    },
    {
     "name": "stderr",
     "output_type": "stream",
     "text": [
      "1042it [00:42, 24.26it/s]"
     ]
    },
    {
     "name": "stdout",
     "output_type": "stream",
     "text": [
      "\u001b[96m Now running validation...\n"
     ]
    },
    {
     "name": "stderr",
     "output_type": "stream",
     "text": [
      "\n",
      "117it [00:04, 24.94it/s]"
     ]
    },
    {
     "name": "stdout",
     "output_type": "stream",
     "text": [
      "\u001b[97m Training Epoch ( 27 / 30 )\n"
     ]
    },
    {
     "name": "stderr",
     "output_type": "stream",
     "text": [
      "\n",
      "1042it [00:42, 24.37it/s]"
     ]
    },
    {
     "name": "stdout",
     "output_type": "stream",
     "text": [
      "\u001b[96m Now running validation...\n"
     ]
    },
    {
     "name": "stderr",
     "output_type": "stream",
     "text": [
      "\n",
      "117it [00:04, 25.11it/s]"
     ]
    },
    {
     "name": "stdout",
     "output_type": "stream",
     "text": [
      "\u001b[97m Training Epoch ( 28 / 30 )\n"
     ]
    },
    {
     "name": "stderr",
     "output_type": "stream",
     "text": [
      "\n",
      "1042it [00:42, 24.27it/s]"
     ]
    },
    {
     "name": "stdout",
     "output_type": "stream",
     "text": [
      "\u001b[96m Now running validation...\n"
     ]
    },
    {
     "name": "stderr",
     "output_type": "stream",
     "text": [
      "\n",
      "117it [00:04, 25.35it/s]"
     ]
    },
    {
     "name": "stdout",
     "output_type": "stream",
     "text": [
      "\u001b[97m Training Epoch ( 29 / 30 )\n"
     ]
    },
    {
     "name": "stderr",
     "output_type": "stream",
     "text": [
      "\n",
      "1042it [00:43, 24.23it/s]"
     ]
    },
    {
     "name": "stdout",
     "output_type": "stream",
     "text": [
      "\u001b[96m Now running validation...\n"
     ]
    },
    {
     "name": "stderr",
     "output_type": "stream",
     "text": [
      "\n",
      "117it [00:04, 25.36it/s]\n"
     ]
    },
    {
     "data": {
      "text/plain": [
       "32.20049303770065"
      ]
     },
     "execution_count": 112,
     "metadata": {},
     "output_type": "execute_result"
    }
   ],
   "source": [
    "print(pink, \"Now to train the best trial model for multiple epochs...\")\n",
    "objective(None, resume=True, num_epochs=30)"
   ]
  },
  {
   "cell_type": "code",
   "execution_count": 113,
   "metadata": {
    "id": "a3ZZV_Su3M9c"
   },
   "outputs": [
    {
     "name": "stdout",
     "output_type": "stream",
     "text": [
      "\u001b[92m Accuracy of the sentiment prediction on the test data: 50 %\n",
      "Accuracy of the emotion prediction on the test data: 48 %\n",
      "Classification report for sentiment prediction:\n",
      "              precision    recall  f1-score   support\n",
      "\n",
      "           0       0.54      0.08      0.14       676\n",
      "           1       0.50      0.97      0.66      1056\n",
      "           2       0.36      0.01      0.02       428\n",
      "\n",
      "    accuracy                           0.50      2160\n",
      "   macro avg       0.47      0.36      0.28      2160\n",
      "weighted avg       0.49      0.50      0.37      2160\n",
      "\n",
      "Classification report for emotion prediction:\n",
      "              precision    recall  f1-score   support\n",
      "\n",
      "           0       0.35      0.04      0.07       280\n",
      "           1       0.00      0.00      0.00        51\n",
      "           2       0.00      0.00      0.00        37\n",
      "           3       0.50      0.01      0.01       332\n",
      "           4       0.49      0.98      0.66      1056\n",
      "           5       0.00      0.00      0.00       159\n",
      "           6       0.17      0.02      0.03       245\n",
      "\n",
      "    accuracy                           0.49      2160\n",
      "   macro avg       0.22      0.15      0.11      2160\n",
      "weighted avg       0.38      0.49      0.34      2160\n",
      "\n"
     ]
    },
    {
     "name": "stderr",
     "output_type": "stream",
     "text": [
      "/opt/conda/lib/python3.7/site-packages/sklearn/metrics/_classification.py:1318: UndefinedMetricWarning: Precision and F-score are ill-defined and being set to 0.0 in labels with no predicted samples. Use `zero_division` parameter to control this behavior.\n",
      "  _warn_prf(average, modifier, msg_start, len(result))\n",
      "/opt/conda/lib/python3.7/site-packages/sklearn/metrics/_classification.py:1318: UndefinedMetricWarning: Precision and F-score are ill-defined and being set to 0.0 in labels with no predicted samples. Use `zero_division` parameter to control this behavior.\n",
      "  _warn_prf(average, modifier, msg_start, len(result))\n",
      "/opt/conda/lib/python3.7/site-packages/sklearn/metrics/_classification.py:1318: UndefinedMetricWarning: Precision and F-score are ill-defined and being set to 0.0 in labels with no predicted samples. Use `zero_division` parameter to control this behavior.\n",
      "  _warn_prf(average, modifier, msg_start, len(result))\n"
     ]
    }
   ],
   "source": [
    "#@title Evaluate Model\n",
    "\n",
    "from sklearn.metrics import classification_report\n",
    "\n",
    "# Initialize lists to hold labels and predictions\n",
    "sentiment_labels = []\n",
    "sentiment_preds = []\n",
    "emotion_labels = []\n",
    "emotion_preds = []\n",
    "\n",
    "with open('best_params.pickle', 'rb') as handle:\n",
    "    best_params = pickle.load(handle)\n",
    "dropout_rate = best_params['dropout_rate']\n",
    "\n",
    "# Load pre-trained model\n",
    "if contrastive_model is None:\n",
    "  contrastive_model = MultimodalModel(audio_dim=audio_dim, text_dim=text_dim).to(device)\n",
    "  contrastive_model.load_state_dict(torch.load('contrastive_model.pt'))\n",
    "\n",
    "multimodal_model = DownstreamModel(contrastive_model=contrastive_model, \n",
    "                                   num_sentiment_classes=3, \n",
    "                                   num_emotion_classes=7, \n",
    "                                   dropout_rate=dropout_rate).to(device)\n",
    "\n",
    "multimodal_model.load_state_dict(torch.load('best_model.pt'))\n",
    "\n",
    "multimodal_model.eval()\n",
    "\n",
    "total = 0\n",
    "sentiment_correct = 0\n",
    "emotion_correct = 0\n",
    "\n",
    "with torch.no_grad():\n",
    "    for i, (inputs, sentiment_label, emotion_label) in enumerate(data_loaders['test'], 0):\n",
    "        inputs = tuple(input.to(device) for input in inputs)\n",
    "        with torch.no_grad():\n",
    "            text_input = bert_model(inputs[1].squeeze(1))[0] # Text input through BERT\n",
    "        inputs = (inputs[0], text_input)\n",
    "        \n",
    "        sentiment_out, emotion_out = multimodal_model(*inputs)\n",
    "        _, sentiment_predicted = torch.max(sentiment_out.data, 1)\n",
    "        _, emotion_predicted = torch.max(emotion_out.data, 1)\n",
    "        total += sentiment_label.size(0)\n",
    "        sentiment_correct += (sentiment_predicted == sentiment_label.to(device)).sum().item()\n",
    "        emotion_correct += (emotion_predicted == emotion_label.to(device)).sum().item()\n",
    "        sentiment_labels.extend(sentiment_label.cpu().numpy())\n",
    "        sentiment_preds.extend(sentiment_predicted.cpu().numpy())\n",
    "        emotion_labels.extend(emotion_label.cpu().numpy())\n",
    "        emotion_preds.extend(emotion_predicted.cpu().numpy())\n",
    "\n",
    "print(green, 'Accuracy of the sentiment prediction on the test data: %d %%' % (100 * sentiment_correct / total))\n",
    "print('Accuracy of the emotion prediction on the test data: %d %%' % (100 * emotion_correct / total))\n",
    "\n",
    "print('Classification report for sentiment prediction:')\n",
    "print(classification_report(sentiment_labels, sentiment_preds))\n",
    "\n",
    "print('Classification report for emotion prediction:')\n",
    "print(classification_report(emotion_labels, emotion_preds))"
   ]
  },
  {
   "cell_type": "code",
   "execution_count": 117,
   "metadata": {},
   "outputs": [
    {
     "data": {
      "image/png": "[encoded data removed]",
      "text/plain": [
       "<Figure size 1000x700 with 2 Axes>"
      ]
     },
     "metadata": {},
     "output_type": "display_data"
    }
   ],
   "source": [
    "import seaborn as sns\n",
    "from sklearn.metrics import confusion_matrix\n",
    "import matplotlib.pyplot as plt\n",
    "sentiment_cm = confusion_matrix(sentiment_labels, sentiment_preds)\n",
    "emotion_cm = confusion_matrix(emotion_labels, emotion_preds)\n",
    "\n",
    "sentiment_classes = ['negative', 'neutral', 'positive']\n",
    "emotion_classes = ['anger', 'disgust', 'fear', 'joy', 'neutral', 'sadness', 'surprise']\n",
    "\n",
    "plt.figure(figsize=(10,7))\n",
    "sns.heatmap(sentiment_cm, annot=True, fmt='d', cmap='Blues', xticklabels=sentiment_classes, yticklabels=sentiment_classes)\n",
    "plt.title('Confusion Matrix for Sentiment Predictions')\n",
    "plt.xlabel('Predicted')\n",
    "plt.ylabel('True')\n",
    "plt.show()"
   ]
  },
  {
   "cell_type": "code",
   "execution_count": 115,
   "metadata": {},
   "outputs": [
    {
     "data": {
      "image/png": "[encoded data removed]",
      "text/plain": [
       "<Figure size 1000x700 with 2 Axes>"
      ]
     },
     "metadata": {},
     "output_type": "display_data"
    }
   ],
   "source": [
    "plt.figure(figsize=(10,7))\n",
    "sns.heatmap(emotion_cm, annot=True, fmt='d', cmap='Blues', xticklabels=emotion_classes, yticklabels=emotion_classes)\n",
    "plt.title('Confusion Matrix for Emotion Predictions')\n",
    "plt.xlabel('Predicted')\n",
    "plt.ylabel('True')\n",
    "plt.show()"
   ]
  }
 ],
 "metadata": {
  "colab": {
   "provenance": []
  },
  "environment": {
   "kernel": "python3",
   "name": "common-cu110.m108",
   "type": "gcloud",
   "uri": "gcr.io/deeplearning-platform-release/base-cu110:m108"
  },
  "kernelspec": {
   "display_name": "Python 3",
   "language": "python",
   "name": "python3"
  },
  "language_info": {
   "codemirror_mode": {
    "name": "ipython",
    "version": 3
   },
   "file_extension": ".py",
   "mimetype": "text/x-python",
   "name": "python",
   "nbconvert_exporter": "python",
   "pygments_lexer": "ipython3",
   "version": "3.7.12"
  }
 },
 "nbformat": 4,
 "nbformat_minor": 4
}
